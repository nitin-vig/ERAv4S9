{
  "cells": [
    {
      "cell_type": "markdown",
      "metadata": {
        "id": "WacZdFIK8Wxm"
      },
      "source": [
        "# Multi-Dataset ImageNet Training with ResNet50 - Modular Version\n",
        "\n",
        "This notebook demonstrates training ResNet50 on multiple ImageNet variants using a modular approach. The code supports experiments across different datasets for comprehensive analysis.\n",
        "\n",
        "## Supported Datasets:\n",
        "- **ImageNette**: 10 classes, 224x224 images (fastest for experiments)\n",
        "- **Tiny ImageNet**: 200 classes, 64x64 images (medium complexity)\n",
        "- **ImageNet Mini**: 1000 classes, 224x224 images (subset of full ImageNet)\n",
        "- **Full ImageNet**: 1000 classes, 224x224 images (full dataset)\n",
        "\n",
        "## Features:\n",
        "- **Modular Design**: Separate modules for configuration, data loading, models, and training utilities\n",
        "- **Multi-Dataset Support**: Easy switching between different ImageNet variants\n",
        "- **Dataset-Specific Training**: Optimized hyperparameters for each dataset\n",
        "- **Comprehensive Metrics**: Tracks training and validation metrics\n",
        "- **Model Saving**: Automatic model checkpointing with dataset-specific naming\n"
      ]
    },
    {
      "cell_type": "code",
      "execution_count": 1,
      "metadata": {
        "colab": {
          "base_uri": "https://localhost:8080/"
        },
        "id": "iHlSAbeh8JPX",
        "outputId": "ef6c3ac4-b910-4c92-d973-157db28cc7ba"
      },
      "outputs": [
        {
          "output_type": "stream",
          "name": "stdout",
          "text": [
            "Mounted at /content/gdrive\n",
            "📂 File written directly to: /content/gdrive/My Drive/models/dummy_direct_save.txt\n",
            "total 182M\n",
            "-rw------- 1 root root  91M Oct 28 00:36 best_model_imagenette.pth\n",
            "-rw------- 1 root root  92M Oct 28 19:20 best_model_tiny_imagenet.pth\n",
            "-rw------- 1 root root   52 Oct 28 20:13 dummy_direct_save.txt\n",
            "drwx------ 2 root root 4.0K Oct 28 00:42 imagenette_stage_1\n",
            "drwx------ 2 root root 4.0K Oct 28 19:20 tiny_imagenet_stage_1\n"
          ]
        }
      ],
      "source": [
        "# 1️⃣ Mount Google Drive\n",
        "from google.colab import drive\n",
        "import os\n",
        "drive.mount('/content/gdrive')\n",
        "\n",
        "# 2️⃣ Define your Drive path (folder + file)\n",
        "drive_folder = '/content/gdrive/My Drive/models'\n",
        "os.makedirs(drive_folder, exist_ok=True)\n",
        "file_path = os.path.join(drive_folder, 'dummy_direct_save.txt')\n",
        "\n",
        "# 3️⃣ Write directly to Google Drive\n",
        "with open(file_path, 'w') as f:\n",
        "    f.write(\"✅ This file was written directly to Google Drive.\\n\")\n",
        "\n",
        "print(f\"📂 File written directly to: {file_path}\")\n",
        "\n",
        "# 4️⃣ Verify it exists\n",
        "!ls -lh \"/content/gdrive/My Drive/models\""
      ]
    },
    {
      "cell_type": "code",
      "execution_count": 2,
      "metadata": {
        "id": "QG8Wassd8Wxp",
        "colab": {
          "base_uri": "https://localhost:8080/"
        },
        "outputId": "947c6c28-4dfc-4893-b539-5964ebdd4494"
      },
      "outputs": [
        {
          "output_type": "stream",
          "name": "stdout",
          "text": [
            "Requirement already satisfied: torchsummary in /usr/local/lib/python3.12/dist-packages (1.5.1)\n",
            "Requirement already satisfied: albumentations in /usr/local/lib/python3.12/dist-packages (2.0.8)\n",
            "Requirement already satisfied: numpy>=1.24.4 in /usr/local/lib/python3.12/dist-packages (from albumentations) (2.0.2)\n",
            "Requirement already satisfied: scipy>=1.10.0 in /usr/local/lib/python3.12/dist-packages (from albumentations) (1.16.2)\n",
            "Requirement already satisfied: PyYAML in /usr/local/lib/python3.12/dist-packages (from albumentations) (6.0.3)\n",
            "Requirement already satisfied: pydantic>=2.9.2 in /usr/local/lib/python3.12/dist-packages (from albumentations) (2.11.10)\n",
            "Requirement already satisfied: albucore==0.0.24 in /usr/local/lib/python3.12/dist-packages (from albumentations) (0.0.24)\n",
            "Requirement already satisfied: opencv-python-headless>=4.9.0.80 in /usr/local/lib/python3.12/dist-packages (from albumentations) (4.12.0.88)\n",
            "Requirement already satisfied: stringzilla>=3.10.4 in /usr/local/lib/python3.12/dist-packages (from albucore==0.0.24->albumentations) (4.2.1)\n",
            "Requirement already satisfied: simsimd>=5.9.2 in /usr/local/lib/python3.12/dist-packages (from albucore==0.0.24->albumentations) (6.5.3)\n",
            "Requirement already satisfied: annotated-types>=0.6.0 in /usr/local/lib/python3.12/dist-packages (from pydantic>=2.9.2->albumentations) (0.7.0)\n",
            "Requirement already satisfied: pydantic-core==2.33.2 in /usr/local/lib/python3.12/dist-packages (from pydantic>=2.9.2->albumentations) (2.33.2)\n",
            "Requirement already satisfied: typing-extensions>=4.12.2 in /usr/local/lib/python3.12/dist-packages (from pydantic>=2.9.2->albumentations) (4.15.0)\n",
            "Requirement already satisfied: typing-inspection>=0.4.0 in /usr/local/lib/python3.12/dist-packages (from pydantic>=2.9.2->albumentations) (0.4.2)\n"
          ]
        }
      ],
      "source": [
        "# Install required packages\n",
        "%pip install torchsummary albumentations\n"
      ]
    },
    {
      "cell_type": "code",
      "execution_count": 3,
      "metadata": {
        "colab": {
          "base_uri": "https://localhost:8080/"
        },
        "id": "r9sgaqmb9ghJ",
        "outputId": "e4a145e1-3cca-4247-e582-c99c64f2fbef"
      },
      "outputs": [
        {
          "output_type": "stream",
          "name": "stdout",
          "text": [
            "rmdir: failed to remove 'ERAv4S9': No such file or directory\n",
            "Cloning into 'ERAv4S9'...\n",
            "remote: Enumerating objects: 229, done.\u001b[K\n",
            "remote: Counting objects: 100% (20/20), done.\u001b[K\n",
            "remote: Compressing objects: 100% (13/13), done.\u001b[K\n",
            "remote: Total 229 (delta 9), reused 16 (delta 7), pack-reused 209 (from 1)\u001b[K\n",
            "Receiving objects: 100% (229/229), 5.66 MiB | 10.59 MiB/s, done.\n",
            "Resolving deltas: 100% (124/124), done.\n",
            "/content/ERAv4S9\n",
            "total 404\n",
            "-rw-r--r-- 1 root root  13141 Oct 28 20:13 config.py\n",
            "-rw-r--r-- 1 root root  25818 Oct 28 20:13 dataset_loader.py\n",
            "-rw-r--r-- 1 root root 290094 Oct 28 20:13 ImageNet_Experiment_Resnet_50.ipynb\n",
            "-rw-r--r-- 1 root root   8512 Oct 28 20:13 lr_finder.py\n",
            "-rw-r--r-- 1 root root   7820 Oct 28 20:13 models.py\n",
            "-rw-r--r-- 1 root root   4365 Oct 28 20:13 NOTEBOOK_MULTI_STAGE_GUIDE.md\n",
            "-rw-r--r-- 1 root root   5715 Oct 28 20:13 progressive_transfer_learning_example.py\n",
            "-rw-r--r-- 1 root root  10776 Oct 28 20:13 README.md\n",
            "-rw-r--r-- 1 root root    695 Oct 28 20:13 requirements.txt\n",
            "-rw-r--r-- 1 root root  20620 Oct 28 20:13 training_utils.py\n"
          ]
        }
      ],
      "source": [
        "# Step 1: Clone the repo\n",
        "!rmdir ERAv4S9\n",
        "!git clone https://github.com/nitin-vig/ERAv4S9.git\n",
        "\n",
        "# Step 2: Move into the repo folder\n",
        "%cd ERAv4S9\n",
        "\n",
        "# Step 3: (Optional) List files to verify\n",
        "!ls -l"
      ]
    },
    {
      "cell_type": "code",
      "execution_count": 4,
      "metadata": {
        "colab": {
          "base_uri": "https://localhost:8080/"
        },
        "id": "GCfedRJU8Wxq",
        "outputId": "e6a4dd08-35f4-402f-b41c-052337c73063"
      },
      "outputs": [
        {
          "output_type": "stream",
          "name": "stdout",
          "text": [
            "{'__module__': 'config', '__doc__': 'Configuration class for progressive training strategy', 'DEVICE': 'cpu', 'DATA_ROOT': '/content/data', 'SAVE_DIR': './progressive_models', 'SAVE_MODEL_PATH': '/content/gdrive/My Drive/models', 'MODEL_NAME': 'resnet50', 'MOUNT_DRIVE': True, 'DRIVE_MODEL_PATH': '/content/gdrive/My Drive/models', 'STAGES': {'imagenette': {'dataset': 'imagenette', 'classes': 10, 'image_size': 224, 'epochs': 20, 'batch_size': 256, 'lr': 0.001, 'optimizer': 'adamw', 'scheduler': 'cosine', 'weight_decay': 0.0001, 'label_smoothing': 0.1, 'description': 'Quick warmup and architecture validation', 'enabled': True, 'priority': 1}, 'tiny_imagenet': {'dataset': 'tiny_imagenet', 'classes': 200, 'image_size': 64, 'epochs': 50, 'batch_size': 256, 'lr': 0.037, 'optimizer': 'sgd', 'scheduler': 'one_cycle', 'weight_decay': 0.001, 'label_smoothing': 0.1, 'mixup_alpha': 0.3, 'description': 'LR: 0.10 (safe max_lr for transfer learning with pretrained weights)', 'enabled': True, 'priority': 2}, 'imagenet_mini': {'dataset': 'imagenet_mini', 'classes': 1000, 'image_size': 224, 'epochs': 80, 'batch_size': 256, 'lr': 0.08, 'optimizer': 'sgd', 'scheduler': 'one_cycle', 'weight_decay': 0.001, 'label_smoothing': 0.1, 'description': 'Full ImageNet complexity with subset data - One Cycle LR for fast convergence', 'enabled': True, 'priority': 3}, 'imagenet': {'dataset': 'imagenet', 'classes': 1000, 'image_size': 224, 'epochs': 100, 'batch_size': 256, 'lr': 0.08, 'optimizer': 'sgd', 'scheduler': 'one_cycle', 'weight_decay': 0.001, 'label_smoothing': 0.1, 'description': 'Final full-scale training - conservative LR for stable training', 'enabled': True, 'priority': 4}}, 'DATA_LOADING': {'num_workers': 4, 'pin_memory': True, 'persistent_workers': True, 'prefetch_factor': 2}, 'TRAINING': {'mixed_precision': True, 'gradient_clipping': 1.0, 'early_stopping_patience': 10, 'save_best_only': True, 'monitor_metric': 'val_acc', 'monitor_mode': 'max'}, 'LOGGING': {'log_interval': 50, 'save_interval': 5, 'plot_interval': 1, 'verbose': True, 'log_level': 'INFO'}, 'MODEL': {'architecture': 'resnet50', 'pretrained': False, 'freeze_backbone': False, 'dropout_rate': 0.0, 'batch_norm_momentum': 0.1}, 'AUGMENTATION': {'train': {'resize': 256, 'crop': 224, 'horizontal_flip': True, 'vertical_flip': False, 'rotation': 0, 'color_jitter': {'brightness': 0.2, 'contrast': 0.2, 'saturation': 0.2, 'hue': 0.1}, 'normalize': {'mean': [0.485, 0.456, 0.406], 'std': [0.229, 0.224, 0.225]}}, 'val': {'resize': 256, 'crop': 224, 'horizontal_flip': False, 'normalize': {'mean': [0.485, 0.456, 0.406], 'std': [0.229, 0.224, 0.225]}}}, 'get_enabled_stages': <classmethod(<function ProgressiveConfig.get_enabled_stages at 0x7e21f29c27a0>)>, 'get_stage_config': <classmethod(<function ProgressiveConfig.get_stage_config at 0x7e21f29c2840>)>, 'get_dataset_config': <classmethod(<function ProgressiveConfig.get_dataset_config at 0x7e21f29c28e0>)>, 'enable_stage': <classmethod(<function ProgressiveConfig.enable_stage at 0x7e21f29c2980>)>, 'disable_stage': <classmethod(<function ProgressiveConfig.disable_stage at 0x7e21f29c2a20>)>, 'add_custom_stage': <classmethod(<function ProgressiveConfig.add_custom_stage at 0x7e21f29c2ac0>)>, 'modify_stage_config': <classmethod(<function ProgressiveConfig.modify_stage_config at 0x7e21f29c2b60>)>, 'update_for_dataset': <classmethod(<function ProgressiveConfig.update_for_dataset at 0x7e21f29c2c00>)>, 'print_config': <classmethod(<function ProgressiveConfig.print_config at 0x7e21f29c2ca0>)>, '__dict__': <attribute '__dict__' of 'ProgressiveConfig' objects>, '__weakref__': <attribute '__weakref__' of 'ProgressiveConfig' objects>}\n",
            "All imports successful!\n",
            "PyTorch version: 2.8.0+cu126\n",
            "CUDA available: True\n"
          ]
        }
      ],
      "source": [
        "# Import all necessary libraries\n",
        "import torch\n",
        "import torch.nn as nn\n",
        "import torch.optim as optim\n",
        "import torchvision\n",
        "import matplotlib.pyplot as plt\n",
        "import numpy as np\n",
        "import os\n",
        "from google.colab import drive\n",
        "\n",
        "# Import our modular components\n",
        "from config import Config\n",
        "from dataset_loader import get_data_loaders, visualize_samples\n",
        "from models import get_model, count_parameters, get_model_summary, save_model\n",
        "from training_utils import train_model, train_model_with_transfer, evaluate_model, MetricsTracker, verify_saved_files\n",
        "\n",
        "print(Config.__dict__)\n",
        "\n",
        "print(\"All imports successful!\")\n",
        "print(f\"PyTorch version: {torch.__version__}\")\n",
        "print(f\"CUDA available: {torch.cuda.is_available()}\")\n"
      ]
    },
    {
      "cell_type": "markdown",
      "metadata": {
        "id": "3LKzKXeB8Wxr"
      },
      "source": [
        "## Configuration\n",
        "\n",
        "Let's configure our training parameters. You can easily switch between datasets and modify training parameters here.\n"
      ]
    },
    {
      "cell_type": "code",
      "execution_count": 5,
      "metadata": {
        "id": "5sbHsrds8Wxr",
        "colab": {
          "base_uri": "https://localhost:8080/"
        },
        "outputId": "9e7ed67f-71f8-4fb3-80ae-ca27b416a171"
      },
      "outputs": [
        {
          "output_type": "stream",
          "name": "stdout",
          "text": [
            "Configuration updated for tiny_imagenet\n",
            "Image size: 64\n",
            "Number of classes: 200\n",
            "Batch size: 256\n",
            "Epochs: 50\n",
            "Learning rate: 0.037\n",
            "Configuration updated!\n",
            "Dataset: tiny_imagenet\n",
            "Image size: 64\n",
            "Number of classes: 200\n",
            "Batch size: 256\n",
            "Epochs: 50\n",
            "Learning rate: 0.037\n",
            "Use pretrained: False\n",
            "\n",
            "Dataset-specific parameters:\n",
            "Optimizer: sgd\n",
            "Scheduler: one_cycle\n"
          ]
        }
      ],
      "source": [
        "# Configuration setup for multi-dataset experiments\n",
        "# You can easily switch between datasets by changing DATASET_NAME\n",
        "\n",
        "# Dataset configuration\n",
        "DATASET_NAME = \"tiny_imagenet\"  # Options: \"imagenette\", \"tiny_imagenet\", \"imagenet_mini\", \"imagenet\"\n",
        "USE_PRETRAINED = False  # Custom implementation without pretrained weights\n",
        "\n",
        "# Update configuration for the selected dataset\n",
        "Config.update_for_dataset(DATASET_NAME)\n",
        "\n",
        "print(\"Configuration updated!\")\n",
        "print(f\"Dataset: {DATASET_NAME}\")\n",
        "print(f\"Image size: {Config.IMAGE_SIZE}\")\n",
        "print(f\"Number of classes: {Config.NUM_CLASSES}\")\n",
        "print(f\"Batch size: {Config.BATCH_SIZE}\")\n",
        "print(f\"Epochs: {Config.NUM_EPOCHS}\")\n",
        "print(f\"Learning rate: {Config.LEARNING_RATE}\")\n",
        "print(f\"Use pretrained: {USE_PRETRAINED}\")\n",
        "\n",
        "# Display dataset-specific training parameters\n",
        "dataset_config = Config.get_dataset_config(DATASET_NAME)\n",
        "print(f\"\\nDataset-specific parameters:\")\n",
        "print(f\"Optimizer: {dataset_config['optimizer']}\")\n",
        "print(f\"Scheduler: {dataset_config['scheduler']}\")\n"
      ]
    },
    {
      "cell_type": "markdown",
      "metadata": {
        "id": "wTitVrnx8Wxr"
      },
      "source": [
        "## Environment Setup\n",
        "\n",
        "Setup the environment and check GPU availability. For full ImageNet training, you'll need significant computational resources.\n"
      ]
    },
    {
      "cell_type": "code",
      "execution_count": 6,
      "metadata": {
        "id": "hms3ZX-O8Wxs",
        "colab": {
          "base_uri": "https://localhost:8080/"
        },
        "outputId": "ee51036c-cbb8-4d52-b5a1-707ac82bc7ae"
      },
      "outputs": [
        {
          "output_type": "stream",
          "name": "stdout",
          "text": [
            "Setting up environment for ImageNet training...\n",
            "Environment setup complete!\n",
            "Using device: cuda\n",
            "GPU: Tesla T4\n",
            "GPU Memory: 15.8 GB\n",
            "Warning: Full ImageNet training requires significant GPU memory!\n"
          ]
        }
      ],
      "source": [
        "# Setup environment\n",
        "def setup_environment():\n",
        "    \"\"\"Setup environment for ImageNet training\"\"\"\n",
        "    print(\"Setting up environment for ImageNet training...\")\n",
        "\n",
        "    # Create necessary directories\n",
        "    os.makedirs(Config.DATA_ROOT, exist_ok=True)\n",
        "    os.makedirs(Config.SAVE_MODEL_PATH, exist_ok=True)\n",
        "\n",
        "    print(\"Environment setup complete!\")\n",
        "\n",
        "def check_gpu_availability():\n",
        "    \"\"\"Check GPU availability and setup device\"\"\"\n",
        "    device = torch.device(\"cuda\" if torch.cuda.is_available() else \"cpu\")\n",
        "    print(f\"Using device: {device}\")\n",
        "\n",
        "    if torch.cuda.is_available():\n",
        "        print(f\"GPU: {torch.cuda.get_device_name(0)}\")\n",
        "        print(f\"GPU Memory: {torch.cuda.get_device_properties(0).total_memory / 1e9:.1f} GB\")\n",
        "        print(\"Warning: Full ImageNet training requires significant GPU memory!\")\n",
        "    else:\n",
        "        print(\"Warning: CPU training will be very slow for ImageNet!\")\n",
        "\n",
        "    return device\n",
        "\n",
        "# Run setup\n",
        "setup_environment()\n",
        "device = check_gpu_availability()\n",
        "\n",
        "# Set random seed for reproducibility\n",
        "torch.manual_seed(42)\n",
        "if torch.cuda.is_available():\n",
        "    torch.cuda.manual_seed(42)\n"
      ]
    },
    {
      "cell_type": "code",
      "execution_count": 7,
      "metadata": {
        "id": "WW24PNlCUVQF",
        "colab": {
          "base_uri": "https://localhost:8080/"
        },
        "outputId": "173e7a2a-1e30-4c3e-a5f9-da6c6e10e978"
      },
      "outputs": [
        {
          "output_type": "stream",
          "name": "stdout",
          "text": [
            "🔄 Downloading Tiny ImageNet...\n",
            "✅ Tiny ImageNet downloaded!\n",
            "\n",
            "📁 Dataset verification:\n",
            "total 12\n",
            "drwxr-xr-x 3 root root 4096 Oct 28 20:14 .\n",
            "drwxr-xr-x 1 root root 4096 Oct 28 20:13 ..\n",
            "drwxrwxr-x 5 root root 4096 Feb  9  2015 tiny-imagenet-200\n",
            "481M\t/content/data/tiny-imagenet-200\n",
            "\n",
            "🎉 Datasets ready! You can now use:\n",
            "from dataloader import get_data_loaders\n",
            "train_loader, test_loader = get_data_loaders('imagenette')\n"
          ]
        }
      ],
      "source": [
        "# 🧩 Colab Dataset Setup Cell\n",
        "# Copy-paste this cell into your Colab notebook\n",
        "\n",
        "import os\n",
        "import subprocess\n",
        "\n",
        "# Install required packages (if not already installed)\n",
        "!pip install -q torch torchvision albumentations tqdm requests\n",
        "\n",
        "DATA_DIR = \"/content/data\"\n",
        "IMAGENETTE_DIR = os.path.join(DATA_DIR, \"imagenette2\")\n",
        "TINY_IMAGENET_DIR = os.path.join(DATA_DIR, \"tiny-imagenet-200\")\n",
        "\n",
        "os.makedirs(DATA_DIR, exist_ok=True)\n",
        "\n",
        "def run_cmd(cmd):\n",
        "    \"\"\"Helper to run shell commands cleanly.\"\"\"\n",
        "    result = subprocess.run(cmd, shell=True, check=False, stdout=subprocess.PIPE, stderr=subprocess.PIPE, text=True)\n",
        "    if result.returncode != 0:\n",
        "        print(f\"⚠️ Warning: {cmd} failed with error:\\n{result.stderr}\")\n",
        "    return result\n",
        "\n",
        "# ------------------------------\n",
        "# 🔹 Download ImageNette\n",
        "# # ------------------------------\n",
        "# if not os.path.exists(IMAGENETTE_DIR) or len(os.listdir(IMAGENETTE_DIR)) == 0:\n",
        "#     print(\"🔄 Downloading ImageNette...\")\n",
        "#     run_cmd(\"wget -q https://s3.amazonaws.com/fast-ai-imageclas/imagenette2.tgz\")\n",
        "#     run_cmd(\"tar -xzf imagenette2.tgz\")\n",
        "#     run_cmd(f\"mv imagenette2 {DATA_DIR}/\")\n",
        "#     run_cmd(\"rm imagenette2.tgz\")\n",
        "#     print(\"✅ ImageNette downloaded!\")\n",
        "# else:\n",
        "#     print(f\"✅ Skipping ImageNette — already exists at {IMAGENETTE_DIR}\")\n",
        "\n",
        "# ------------------------------\n",
        "# 🔹 Download Tiny ImageNet\n",
        "# ------------------------------\n",
        "if not os.path.exists(TINY_IMAGENET_DIR) or len(os.listdir(TINY_IMAGENET_DIR)) == 0:\n",
        "    print(\"🔄 Downloading Tiny ImageNet...\")\n",
        "    run_cmd(\"wget -q http://cs231n.stanford.edu/tiny-imagenet-200.zip\")\n",
        "    run_cmd(\"unzip -q tiny-imagenet-200.zip\")\n",
        "    run_cmd(f\"mv tiny-imagenet-200 {DATA_DIR}/\")\n",
        "    run_cmd(\"rm tiny-imagenet-200.zip\")\n",
        "    print(\"✅ Tiny ImageNet downloaded!\")\n",
        "else:\n",
        "    print(f\"✅ Skipping Tiny ImageNet — already exists at {TINY_IMAGENET_DIR}\")\n",
        "\n",
        "# ------------------------------\n",
        "# 🔹 Verify\n",
        "# ------------------------------\n",
        "print(\"\\n📁 Dataset verification:\")\n",
        "!ls -la {DATA_DIR}\n",
        "!du -sh {DATA_DIR}/* | sort -h\n",
        "\n",
        "print(\"\\n🎉 Datasets ready! You can now use:\")\n",
        "print(\"from dataloader import get_data_loaders\")\n",
        "print(\"train_loader, test_loader = get_data_loaders('imagenette')\")\n"
      ]
    },
    {
      "cell_type": "markdown",
      "metadata": {
        "id": "_F9rBWIp8Wxs"
      },
      "source": [
        "## Data Loading\n",
        "\n",
        "Load the dataset and visualize some sample images.\n"
      ]
    },
    {
      "cell_type": "code",
      "execution_count": 8,
      "metadata": {
        "id": "0HCNpJBv8Wxs",
        "colab": {
          "base_uri": "https://localhost:8080/",
          "height": 1000
        },
        "outputId": "f3912310-4be2-48cf-fb7f-1fa5fb2f26d9"
      },
      "outputs": [
        {
          "output_type": "stream",
          "name": "stdout",
          "text": [
            "Loading dataset...\n",
            "📊 Tiny ImageNet Dataset Info:\n",
            "   Total classes: 200\n",
            "   Label range: 0 to 199\n",
            "   First 5 classes: ['n01443537', 'n01629819', 'n01641577', 'n01644900', 'n01698640']\n",
            "   Last 5 classes: ['n09246464', 'n09256479', 'n09332890', 'n09428293', 'n12267677']\n"
          ]
        },
        {
          "output_type": "stream",
          "name": "stderr",
          "text": [
            "/content/ERAv4S9/dataset_loader.py:481: UserWarning: Argument(s) 'max_holes, max_height, max_width, min_height, min_width, fill_value' are not valid for transform CoarseDropout\n",
            "  A.CoarseDropout(\n",
            "/content/ERAv4S9/dataset_loader.py:490: UserWarning: Argument(s) 'var_limit' are not valid for transform GaussNoise\n",
            "  A.GaussNoise(var_limit=(10.0, 50.0), p=0.25),\n"
          ]
        },
        {
          "output_type": "stream",
          "name": "stdout",
          "text": [
            "   Labels in dataset: 0 to 199 (expected: 0 to 199)\n",
            "   ✅ Labels are in correct range\n",
            "📊 Tiny ImageNet Dataset Info:\n",
            "   Total classes: 200\n",
            "   Label range: 0 to 199\n",
            "   First 5 classes: ['n01443537', 'n01629819', 'n01641577', 'n01644900', 'n01698640']\n",
            "   Last 5 classes: ['n09246464', 'n09256479', 'n09332890', 'n09428293', 'n12267677']\n",
            "   Labels in dataset: 0 to 199 (expected: 0 to 199)\n",
            "   ✅ Labels are in correct range\n",
            "Dataset: tiny_imagenet\n",
            "Train samples: 100000\n",
            "Test samples: 10000\n",
            "Batch size: 256\n",
            "Number of classes: 200\n",
            "\n",
            "Visualizing sample images...\n"
          ]
        },
        {
          "output_type": "stream",
          "name": "stderr",
          "text": [
            "/usr/local/lib/python3.12/dist-packages/torch/utils/data/dataloader.py:627: UserWarning: This DataLoader will create 4 worker processes in total. Our suggested max number of worker in current system is 2, which is smaller than what this DataLoader is going to create. Please be aware that excessive worker creation might get DataLoader running slow or even freeze, lower the worker number to avoid potential slowness/freeze if necessary.\n",
            "  warnings.warn(\n"
          ]
        },
        {
          "output_type": "display_data",
          "data": {
            "text/plain": [
              "<Figure size 1500x1000 with 12 Axes>"
            ],
            "image/png": "[encoded data removed]"
          },
          "metadata": {}
        }
      ],
      "source": [
        "# Load dataset\n",
        "print(\"Loading dataset...\")\n",
        "train_loader, test_loader = get_data_loaders(DATASET_NAME)\n",
        "\n",
        "# Visualize some samples\n",
        "print(\"\\nVisualizing sample images...\")\n",
        "visualize_samples(train_loader, num_samples=12)\n"
      ]
    },
    {
      "cell_type": "markdown",
      "metadata": {
        "id": "4KrXECgD8Wxt"
      },
      "source": [
        "## Model Creation\n",
        "\n",
        "Create the ResNet50 model and display its architecture.\n"
      ]
    },
    {
      "cell_type": "code",
      "execution_count": 9,
      "metadata": {
        "id": "JJ3Qqiq58Wxt"
      },
      "outputs": [],
      "source": [
        "# # Create model\n",
        "# print(f\"Creating {Config.MODEL_NAME} model...\")\n",
        "# model = get_model(\n",
        "#     model_name=Config.MODEL_NAME,\n",
        "#     dataset_name=DATASET_NAME,\n",
        "#     pretrained=USE_PRETRAINED\n",
        "# )\n",
        "\n",
        "# # Move model to device\n",
        "# model = model.to(device)\n",
        "\n",
        "# # Print model info\n",
        "# print(f\"Model parameters: {count_parameters(model):,}\")\n",
        "\n",
        "# # Get model summary\n",
        "# dataset_config = Config.get_dataset_config(DATASET_NAME)\n",
        "# input_size = (3, dataset_config[\"image_size\"], dataset_config[\"image_size\"])\n",
        "# print(f\"\\nModel summary (input size: {input_size}):\")\n",
        "# get_model_summary(model, input_size=input_size)\n"
      ]
    },
    {
      "cell_type": "code",
      "source": [
        "# Install pytorch-lr-finder if needed\n",
        "!pip install torch-lr-finder\n",
        "\n",
        "# Import and run LR finder\n",
        "from lr_finder import run_lr_finder\n",
        "\n",
        "# Find optimal LR for Tiny ImageNet (or any stage)\n",
        "# STAGE_NAME = \"tiny_imagenet\"\n",
        "# optimal_lr = run_lr_finder_for_stage(STAGE_NAME, num_iter=200)\n",
        "\n",
        "# print(f\"\\n✅ Update config.py:\")\n",
        "# print(f\"   'lr': {optimal_lr:.6f}\")"
      ],
      "metadata": {
        "id": "5jDseiTEvhvH",
        "outputId": "06535244-1e0a-403f-d040-472fb7729938",
        "colab": {
          "base_uri": "https://localhost:8080/"
        }
      },
      "execution_count": 10,
      "outputs": [
        {
          "output_type": "stream",
          "name": "stdout",
          "text": [
            "Collecting torch-lr-finder\n",
            "  Downloading torch_lr_finder-0.2.2-py3-none-any.whl.metadata (8.5 kB)\n",
            "Requirement already satisfied: matplotlib in /usr/local/lib/python3.12/dist-packages (from torch-lr-finder) (3.10.0)\n",
            "Requirement already satisfied: numpy in /usr/local/lib/python3.12/dist-packages (from torch-lr-finder) (2.0.2)\n",
            "Requirement already satisfied: torch>=0.4.1 in /usr/local/lib/python3.12/dist-packages (from torch-lr-finder) (2.8.0+cu126)\n",
            "Requirement already satisfied: tqdm in /usr/local/lib/python3.12/dist-packages (from torch-lr-finder) (4.67.1)\n",
            "Requirement already satisfied: packaging in /usr/local/lib/python3.12/dist-packages (from torch-lr-finder) (25.0)\n",
            "Requirement already satisfied: filelock in /usr/local/lib/python3.12/dist-packages (from torch>=0.4.1->torch-lr-finder) (3.20.0)\n",
            "Requirement already satisfied: typing-extensions>=4.10.0 in /usr/local/lib/python3.12/dist-packages (from torch>=0.4.1->torch-lr-finder) (4.15.0)\n",
            "Requirement already satisfied: setuptools in /usr/local/lib/python3.12/dist-packages (from torch>=0.4.1->torch-lr-finder) (75.2.0)\n",
            "Requirement already satisfied: sympy>=1.13.3 in /usr/local/lib/python3.12/dist-packages (from torch>=0.4.1->torch-lr-finder) (1.13.3)\n",
            "Requirement already satisfied: networkx in /usr/local/lib/python3.12/dist-packages (from torch>=0.4.1->torch-lr-finder) (3.5)\n",
            "Requirement already satisfied: jinja2 in /usr/local/lib/python3.12/dist-packages (from torch>=0.4.1->torch-lr-finder) (3.1.6)\n",
            "Requirement already satisfied: fsspec in /usr/local/lib/python3.12/dist-packages (from torch>=0.4.1->torch-lr-finder) (2025.3.0)\n",
            "Requirement already satisfied: nvidia-cuda-nvrtc-cu12==12.6.77 in /usr/local/lib/python3.12/dist-packages (from torch>=0.4.1->torch-lr-finder) (12.6.77)\n",
            "Requirement already satisfied: nvidia-cuda-runtime-cu12==12.6.77 in /usr/local/lib/python3.12/dist-packages (from torch>=0.4.1->torch-lr-finder) (12.6.77)\n",
            "Requirement already satisfied: nvidia-cuda-cupti-cu12==12.6.80 in /usr/local/lib/python3.12/dist-packages (from torch>=0.4.1->torch-lr-finder) (12.6.80)\n",
            "Requirement already satisfied: nvidia-cudnn-cu12==9.10.2.21 in /usr/local/lib/python3.12/dist-packages (from torch>=0.4.1->torch-lr-finder) (9.10.2.21)\n",
            "Requirement already satisfied: nvidia-cublas-cu12==12.6.4.1 in /usr/local/lib/python3.12/dist-packages (from torch>=0.4.1->torch-lr-finder) (12.6.4.1)\n",
            "Requirement already satisfied: nvidia-cufft-cu12==11.3.0.4 in /usr/local/lib/python3.12/dist-packages (from torch>=0.4.1->torch-lr-finder) (11.3.0.4)\n",
            "Requirement already satisfied: nvidia-curand-cu12==10.3.7.77 in /usr/local/lib/python3.12/dist-packages (from torch>=0.4.1->torch-lr-finder) (10.3.7.77)\n",
            "Requirement already satisfied: nvidia-cusolver-cu12==11.7.1.2 in /usr/local/lib/python3.12/dist-packages (from torch>=0.4.1->torch-lr-finder) (11.7.1.2)\n",
            "Requirement already satisfied: nvidia-cusparse-cu12==12.5.4.2 in /usr/local/lib/python3.12/dist-packages (from torch>=0.4.1->torch-lr-finder) (12.5.4.2)\n",
            "Requirement already satisfied: nvidia-cusparselt-cu12==0.7.1 in /usr/local/lib/python3.12/dist-packages (from torch>=0.4.1->torch-lr-finder) (0.7.1)\n",
            "Requirement already satisfied: nvidia-nccl-cu12==2.27.3 in /usr/local/lib/python3.12/dist-packages (from torch>=0.4.1->torch-lr-finder) (2.27.3)\n",
            "Requirement already satisfied: nvidia-nvtx-cu12==12.6.77 in /usr/local/lib/python3.12/dist-packages (from torch>=0.4.1->torch-lr-finder) (12.6.77)\n",
            "Requirement already satisfied: nvidia-nvjitlink-cu12==12.6.85 in /usr/local/lib/python3.12/dist-packages (from torch>=0.4.1->torch-lr-finder) (12.6.85)\n",
            "Requirement already satisfied: nvidia-cufile-cu12==1.11.1.6 in /usr/local/lib/python3.12/dist-packages (from torch>=0.4.1->torch-lr-finder) (1.11.1.6)\n",
            "Requirement already satisfied: triton==3.4.0 in /usr/local/lib/python3.12/dist-packages (from torch>=0.4.1->torch-lr-finder) (3.4.0)\n",
            "Requirement already satisfied: contourpy>=1.0.1 in /usr/local/lib/python3.12/dist-packages (from matplotlib->torch-lr-finder) (1.3.3)\n",
            "Requirement already satisfied: cycler>=0.10 in /usr/local/lib/python3.12/dist-packages (from matplotlib->torch-lr-finder) (0.12.1)\n",
            "Requirement already satisfied: fonttools>=4.22.0 in /usr/local/lib/python3.12/dist-packages (from matplotlib->torch-lr-finder) (4.60.1)\n",
            "Requirement already satisfied: kiwisolver>=1.3.1 in /usr/local/lib/python3.12/dist-packages (from matplotlib->torch-lr-finder) (1.4.9)\n",
            "Requirement already satisfied: pillow>=8 in /usr/local/lib/python3.12/dist-packages (from matplotlib->torch-lr-finder) (11.3.0)\n",
            "Requirement already satisfied: pyparsing>=2.3.1 in /usr/local/lib/python3.12/dist-packages (from matplotlib->torch-lr-finder) (3.2.5)\n",
            "Requirement already satisfied: python-dateutil>=2.7 in /usr/local/lib/python3.12/dist-packages (from matplotlib->torch-lr-finder) (2.9.0.post0)\n",
            "Requirement already satisfied: six>=1.5 in /usr/local/lib/python3.12/dist-packages (from python-dateutil>=2.7->matplotlib->torch-lr-finder) (1.17.0)\n",
            "Requirement already satisfied: mpmath<1.4,>=1.1.0 in /usr/local/lib/python3.12/dist-packages (from sympy>=1.13.3->torch>=0.4.1->torch-lr-finder) (1.3.0)\n",
            "Requirement already satisfied: MarkupSafe>=2.0 in /usr/local/lib/python3.12/dist-packages (from jinja2->torch>=0.4.1->torch-lr-finder) (3.0.3)\n",
            "Downloading torch_lr_finder-0.2.2-py3-none-any.whl (12 kB)\n",
            "Installing collected packages: torch-lr-finder\n",
            "Successfully installed torch-lr-finder-0.2.2\n"
          ]
        }
      ]
    },
    {
      "cell_type": "markdown",
      "metadata": {
        "id": "VEBryc3p8Wxt"
      },
      "source": [
        "## Training\n",
        "\n",
        "Train the model using our modular training utilities.\n"
      ]
    },
    {
      "cell_type": "markdown",
      "metadata": {
        "id": "ZSUjHImSSRw8"
      },
      "source": [
        "## Progressive Transfer Learning (Multi-Stage Training)\n",
        "\n",
        "Run multiple stages in sequence with automatic weight transfer from each stage to the next.\n"
      ]
    },
    {
      "cell_type": "code",
      "execution_count": 11,
      "metadata": {
        "id": "dNYVAVF9SRw8",
        "colab": {
          "base_uri": "https://localhost:8080/",
          "height": 1000,
          "referenced_widgets": [
            "86244c9f54ca41e6bb47211463355e11",
            "199f8b9a7cb345819189b785ac769c2e",
            "ecf08cc0cbdf4668b50fbb0d288bb0d3",
            "27ea5b5783944d2d8ce62e273691308e",
            "2a3fbc74ebdb4675b8be7108d89e5a79",
            "9c91261b12ff4c3eb676f1bea37717e4",
            "57d1bd9776cb4029b1eff844a3d41f67",
            "2d2e89e2304c4f8abc69ed15c55a3679",
            "d063cf16e9c64b5fb88a96b7a018871f",
            "da57181cd0a94963a99459a532582bc3",
            "2f4e3bef83654296bed8cd50434ef71f"
          ]
        },
        "outputId": "0cad798d-9505-4c09-d887-9acbd7349747"
      },
      "outputs": [
        {
          "output_type": "stream",
          "name": "stdout",
          "text": [
            "🚀 Progressive Transfer Learning Training\n",
            "Stages to run: ['tiny_imagenet']\n",
            "Start with pretrained: True\n",
            "Save at each stage: True\n",
            "================================================================================\n",
            "\n",
            "📁 Models will be saved to: /content/gdrive/My Drive/models\n",
            "   (Directory exists)\n",
            "✅ Google Drive is mounted at: /content/gdrive\n",
            "================================================================================\n",
            "\n",
            "================================================================================\n",
            "STAGE 1/1: TINY_IMAGENET\n",
            "================================================================================\n",
            "Configuration updated for tiny_imagenet\n",
            "Image size: 64\n",
            "Number of classes: 200\n",
            "Batch size: 256\n",
            "Epochs: 50\n",
            "Learning rate: 0.037\n",
            "Classes: 200\n",
            "Image size: 64\n",
            "Epochs: 50\n",
            "Batch size: 256\n",
            "LR: 0.037\n",
            "Previous weights: /content/gdrive/My Drive/models/weights_for_tiny_imagenet.pth\n",
            "\n",
            "📦 Loading tiny_imagenet dataset...\n",
            "📊 Tiny ImageNet Dataset Info:\n",
            "   Total classes: 200\n",
            "   Label range: 0 to 199\n",
            "   First 5 classes: ['n01443537', 'n01629819', 'n01641577', 'n01644900', 'n01698640']\n",
            "   Last 5 classes: ['n09246464', 'n09256479', 'n09332890', 'n09428293', 'n12267677']\n",
            "   Labels in dataset: 0 to 199 (expected: 0 to 199)\n",
            "   ✅ Labels are in correct range\n",
            "📊 Tiny ImageNet Dataset Info:\n",
            "   Total classes: 200\n",
            "   Label range: 0 to 199\n",
            "   First 5 classes: ['n01443537', 'n01629819', 'n01641577', 'n01644900', 'n01698640']\n",
            "   Last 5 classes: ['n09246464', 'n09256479', 'n09332890', 'n09428293', 'n12267677']\n",
            "   Labels in dataset: 0 to 199 (expected: 0 to 199)\n",
            "   ✅ Labels are in correct range\n",
            "Dataset: tiny_imagenet\n",
            "Train samples: 100000\n",
            "Test samples: 10000\n",
            "Batch size: 256\n",
            "Number of classes: 200\n",
            "\n",
            "🧠 Creating model for tiny_imagenet...\n",
            "📊 Creating model for tiny_imagenet with 200 classes\n",
            "Model created: 23,917,832 parameters\n",
            "Using device: cuda\n",
            "\n",
            "============================================================\n",
            "LR Finder for: tiny_imagenet\n",
            "============================================================\n",
            "Dataset: tiny_imagenet\n",
            "Image size: 64\n",
            "Classes: 200\n",
            "Batch size: 256\n",
            "\n",
            "Loading dataset...\n",
            "📊 Tiny ImageNet Dataset Info:\n",
            "   Total classes: 200\n",
            "   Label range: 0 to 199\n",
            "   First 5 classes: ['n01443537', 'n01629819', 'n01641577', 'n01644900', 'n01698640']\n",
            "   Last 5 classes: ['n09246464', 'n09256479', 'n09332890', 'n09428293', 'n12267677']\n",
            "   Labels in dataset: 0 to 199 (expected: 0 to 199)\n",
            "   ✅ Labels are in correct range\n",
            "📊 Tiny ImageNet Dataset Info:\n",
            "   Total classes: 200\n",
            "   Label range: 0 to 199\n",
            "   First 5 classes: ['n01443537', 'n01629819', 'n01641577', 'n01644900', 'n01698640']\n",
            "   Last 5 classes: ['n09246464', 'n09256479', 'n09332890', 'n09428293', 'n12267677']\n",
            "   Labels in dataset: 0 to 199 (expected: 0 to 199)\n",
            "   ✅ Labels are in correct range\n",
            "Dataset: tiny_imagenet\n",
            "Train samples: 100000\n",
            "Test samples: 10000\n",
            "Batch size: 256\n",
            "Number of classes: 200\n",
            "🔍 Finding optimal LR for tiny_imagenet using pytorch-lr-finder\n",
            "============================================================\n",
            "Running LR range test (200 iterations)...\n"
          ]
        },
        {
          "output_type": "display_data",
          "data": {
            "text/plain": [
              "  0%|          | 0/200 [00:00<?, ?it/s]"
            ],
            "application/vnd.jupyter.widget-view+json": {
              "version_major": 2,
              "version_minor": 0,
              "model_id": "86244c9f54ca41e6bb47211463355e11"
            }
          },
          "metadata": {}
        },
        {
          "output_type": "stream",
          "name": "stdout",
          "text": [
            "Learning rate search finished. See the graph with {finder_name}.plot()\n",
            "\n",
            "📊 LR Finder Results:\n",
            "   📉 Minimum loss: 5.1998 at LR=0.100000\n",
            "   📊 Suggested loss: 5.6679 at LR=0.045729\n",
            "   ✅ Suggested max_lr: 0.045729\n",
            "   📈 LR range: 1.00e-07 → 1.00e-01\n",
            "   📍 Suggested LR position: 91/200 (45.5% through range)\n",
            "\n",
            "📊 Plotting LR finder results...\n",
            "LR suggestion: steepest gradient\n",
            "Suggested LR: 4.27E-02\n"
          ]
        },
        {
          "output_type": "display_data",
          "data": {
            "text/plain": [
              "<Figure size 640x480 with 1 Axes>"
            ],
            "image/png": "[encoded data removed]"
          },
          "metadata": {}
        },
        {
          "output_type": "display_data",
          "data": {
            "text/plain": [
              "<Figure size 640x480 with 0 Axes>"
            ]
          },
          "metadata": {}
        },
        {
          "output_type": "stream",
          "name": "stdout",
          "text": [
            "\n",
            "💡 For One Cycle LR scheduler, use:\n",
            "   max_lr = 0.045729\n",
            "   This gives you:\n",
            "   - Initial LR: 0.001829 (warmup starts, div_factor=25)\n",
            "   - Peak LR: 0.045729 (at 30% through training)\n",
            "   - Final LR: 0.000000183 (end of training, final_div_factor=10000)\n",
            "\n",
            "✅ Recommended max_lr for One Cycle LR: 0.045729\n",
            "💡 Update config.py with: 'lr': 0.045729\n",
            "\n",
            "✅ Update config.py:\n",
            "   'lr': 0.045729\n",
            "\n",
            "🏋️ Training tiny_imagenet...\n",
            "🔧 Optimizer: sgd, Max LR: 0.037, Scheduler: one_cycle\n",
            "\n",
            "Epoch 1/50\n"
          ]
        },
        {
          "output_type": "stream",
          "name": "stderr",
          "text": [
            "Epoch 1 - Loss=5.2983 - Acc=1.08% - LR=0.001868: 100%|██████████| 391/391 [01:54<00:00,  3.41it/s]\n"
          ]
        },
        {
          "output_type": "stream",
          "name": "stdout",
          "text": [
            "Test set: Average loss: 5.1888, Top-1 Accuracy: 194/10000 (1.94%), Top-5 Accuracy: 808/10000 (8.08%)\n",
            "New best model saved with test loss: 5.1888\n",
            "Current learning rate: 0.001868\n",
            "\n",
            "Epoch 2/50\n"
          ]
        },
        {
          "output_type": "stream",
          "name": "stderr",
          "text": [
            "Epoch 2 - Loss=5.1315 - Acc=2.23% - LR=0.003016: 100%|██████████| 391/391 [01:54<00:00,  3.43it/s]\n"
          ]
        },
        {
          "output_type": "stream",
          "name": "stdout",
          "text": [
            "Test set: Average loss: 5.0645, Top-1 Accuracy: 319/10000 (3.19%), Top-5 Accuracy: 1105/10000 (11.05%)\n",
            "New best model saved with test loss: 5.0645\n",
            "Current learning rate: 0.003016\n",
            "\n",
            "Epoch 3/50\n"
          ]
        },
        {
          "output_type": "stream",
          "name": "stderr",
          "text": [
            "Epoch 3 - Loss=4.9960 - Acc=3.48% - LR=0.004873: 100%|██████████| 391/391 [01:54<00:00,  3.43it/s]\n"
          ]
        },
        {
          "output_type": "stream",
          "name": "stdout",
          "text": [
            "Test set: Average loss: 4.8978, Top-1 Accuracy: 440/10000 (4.40%), Top-5 Accuracy: 1546/10000 (15.46%)\n",
            "New best model saved with test loss: 4.8978\n",
            "Current learning rate: 0.004873\n",
            "\n",
            "Epoch 4/50\n"
          ]
        },
        {
          "output_type": "stream",
          "name": "stderr",
          "text": [
            "Epoch 4 - Loss=4.8120 - Acc=5.41% - LR=0.007358: 100%|██████████| 391/391 [01:54<00:00,  3.42it/s]\n"
          ]
        },
        {
          "output_type": "stream",
          "name": "stdout",
          "text": [
            "Test set: Average loss: 4.6982, Top-1 Accuracy: 664/10000 (6.64%), Top-5 Accuracy: 2121/10000 (21.21%)\n",
            "New best model saved with test loss: 4.6982\n",
            "Current learning rate: 0.007358\n",
            "\n",
            "Epoch 5/50\n"
          ]
        },
        {
          "output_type": "stream",
          "name": "stderr",
          "text": [
            "Epoch 5 - Loss=4.6493 - Acc=7.65% - LR=0.010363: 100%|██████████| 391/391 [01:53<00:00,  3.43it/s]\n"
          ]
        },
        {
          "output_type": "stream",
          "name": "stdout",
          "text": [
            "Test set: Average loss: 4.5397, Top-1 Accuracy: 883/10000 (8.83%), Top-5 Accuracy: 2605/10000 (26.05%)\n",
            "New best model saved with test loss: 4.5397\n",
            "Current learning rate: 0.010363\n",
            "\n",
            "Epoch 6/50\n"
          ]
        },
        {
          "output_type": "stream",
          "name": "stderr",
          "text": [
            "Epoch 6 - Loss=4.4750 - Acc=9.99% - LR=0.013755: 100%|██████████| 391/391 [01:53<00:00,  3.44it/s]\n"
          ]
        },
        {
          "output_type": "stream",
          "name": "stdout",
          "text": [
            "Test set: Average loss: 4.3679, Top-1 Accuracy: 1169/10000 (11.69%), Top-5 Accuracy: 3156/10000 (31.56%)\n",
            "New best model saved with test loss: 4.3679\n",
            "Current learning rate: 0.013755\n",
            "\n",
            "Epoch 7/50\n"
          ]
        },
        {
          "output_type": "stream",
          "name": "stderr",
          "text": [
            "Epoch 7 - Loss=4.2904 - Acc=13.04% - LR=0.017388: 100%|██████████| 391/391 [01:54<00:00,  3.41it/s]\n"
          ]
        },
        {
          "output_type": "stream",
          "name": "stdout",
          "text": [
            "Test set: Average loss: 4.2498, Top-1 Accuracy: 1384/10000 (13.84%), Top-5 Accuracy: 3503/10000 (35.03%)\n",
            "New best model saved with test loss: 4.2498\n",
            "Current learning rate: 0.017388\n",
            "\n",
            "Epoch 8/50\n"
          ]
        },
        {
          "output_type": "stream",
          "name": "stderr",
          "text": [
            "Epoch 8 - Loss=4.1202 - Acc=16.02% - LR=0.021101: 100%|██████████| 391/391 [01:53<00:00,  3.44it/s]\n"
          ]
        },
        {
          "output_type": "stream",
          "name": "stdout",
          "text": [
            "Test set: Average loss: 4.0966, Top-1 Accuracy: 1642/10000 (16.42%), Top-5 Accuracy: 4009/10000 (40.09%)\n",
            "New best model saved with test loss: 4.0966\n",
            "Current learning rate: 0.021101\n",
            "\n",
            "Epoch 9/50\n"
          ]
        },
        {
          "output_type": "stream",
          "name": "stderr",
          "text": [
            "Epoch 9 - Loss=4.0034 - Acc=17.94% - LR=0.024734: 100%|██████████| 391/391 [01:53<00:00,  3.43it/s]\n"
          ]
        },
        {
          "output_type": "stream",
          "name": "stdout",
          "text": [
            "Test set: Average loss: 3.9014, Top-1 Accuracy: 2046/10000 (20.46%), Top-5 Accuracy: 4578/10000 (45.78%)\n",
            "New best model saved with test loss: 3.9014\n",
            "Current learning rate: 0.024734\n",
            "\n",
            "Epoch 10/50\n"
          ]
        },
        {
          "output_type": "stream",
          "name": "stderr",
          "text": [
            "Epoch 10 - Loss=3.8745 - Acc=20.66% - LR=0.028125: 100%|██████████| 391/391 [01:54<00:00,  3.42it/s]\n"
          ]
        },
        {
          "output_type": "stream",
          "name": "stdout",
          "text": [
            "Test set: Average loss: 3.8503, Top-1 Accuracy: 2165/10000 (21.65%), Top-5 Accuracy: 4712/10000 (47.12%)\n",
            "New best model saved with test loss: 3.8503\n",
            "Current learning rate: 0.028125\n",
            "\n",
            "Epoch 11/50\n"
          ]
        },
        {
          "output_type": "stream",
          "name": "stderr",
          "text": [
            "Epoch 11 - Loss=3.7965 - Acc=22.18% - LR=0.031129: 100%|██████████| 391/391 [01:53<00:00,  3.44it/s]\n"
          ]
        },
        {
          "output_type": "stream",
          "name": "stdout",
          "text": [
            "Test set: Average loss: 3.7866, Top-1 Accuracy: 2311/10000 (23.11%), Top-5 Accuracy: 4971/10000 (49.71%)\n",
            "New best model saved with test loss: 3.7866\n",
            "Current learning rate: 0.031129\n",
            "\n",
            "Epoch 12/50\n"
          ]
        },
        {
          "output_type": "stream",
          "name": "stderr",
          "text": [
            "Epoch 12 - Loss=3.7029 - Acc=24.28% - LR=0.033613: 100%|██████████| 391/391 [01:53<00:00,  3.43it/s]\n"
          ]
        },
        {
          "output_type": "stream",
          "name": "stdout",
          "text": [
            "Test set: Average loss: 3.7282, Top-1 Accuracy: 2345/10000 (23.45%), Top-5 Accuracy: 5030/10000 (50.30%)\n",
            "New best model saved with test loss: 3.7282\n",
            "Current learning rate: 0.033613\n",
            "\n",
            "Epoch 13/50\n"
          ]
        },
        {
          "output_type": "stream",
          "name": "stderr",
          "text": [
            "Epoch 13 - Loss=3.6137 - Acc=26.01% - LR=0.035468: 100%|██████████| 391/391 [01:53<00:00,  3.44it/s]\n"
          ]
        },
        {
          "output_type": "stream",
          "name": "stdout",
          "text": [
            "Test set: Average loss: 5.4144, Top-1 Accuracy: 2026/10000 (20.26%), Top-5 Accuracy: 4273/10000 (42.73%)\n",
            "Current learning rate: 0.035468\n",
            "\n",
            "Epoch 14/50\n"
          ]
        },
        {
          "output_type": "stream",
          "name": "stderr",
          "text": [
            "Epoch 14 - Loss=3.5612 - Acc=27.35% - LR=0.036614: 100%|██████████| 391/391 [01:53<00:00,  3.44it/s]\n"
          ]
        },
        {
          "output_type": "stream",
          "name": "stdout",
          "text": [
            "Test set: Average loss: 3.5989, Top-1 Accuracy: 2704/10000 (27.04%), Top-5 Accuracy: 5411/10000 (54.11%)\n",
            "New best model saved with test loss: 3.5989\n",
            "Current learning rate: 0.036614\n",
            "\n",
            "Epoch 15/50\n"
          ]
        },
        {
          "output_type": "stream",
          "name": "stderr",
          "text": [
            "Epoch 15 - Loss=3.4812 - Acc=28.91% - LR=0.037000: 100%|██████████| 391/391 [01:53<00:00,  3.44it/s]\n"
          ]
        },
        {
          "output_type": "stream",
          "name": "stdout",
          "text": [
            "Test set: Average loss: 3.4819, Top-1 Accuracy: 2937/10000 (29.37%), Top-5 Accuracy: 5630/10000 (56.30%)\n",
            "New best model saved with test loss: 3.4819\n",
            "Current learning rate: 0.037000\n",
            "\n",
            "Epoch 16/50\n"
          ]
        },
        {
          "output_type": "stream",
          "name": "stderr",
          "text": [
            "Epoch 16 - Loss=3.4153 - Acc=30.38% - LR=0.036925: 100%|██████████| 391/391 [01:53<00:00,  3.44it/s]\n"
          ]
        },
        {
          "output_type": "stream",
          "name": "stdout",
          "text": [
            "Test set: Average loss: 3.8254, Top-1 Accuracy: 2467/10000 (24.67%), Top-5 Accuracy: 5064/10000 (50.64%)\n",
            "Current learning rate: 0.036925\n",
            "\n",
            "Epoch 17/50\n"
          ]
        },
        {
          "output_type": "stream",
          "name": "stderr",
          "text": [
            "Epoch 17 - Loss=3.3673 - Acc=31.61% - LR=0.036702: 100%|██████████| 391/391 [01:53<00:00,  3.44it/s]\n"
          ]
        },
        {
          "output_type": "stream",
          "name": "stdout",
          "text": [
            "Test set: Average loss: 3.3788, Top-1 Accuracy: 3237/10000 (32.37%), Top-5 Accuracy: 5870/10000 (58.70%)\n",
            "New best model saved with test loss: 3.3788\n",
            "Current learning rate: 0.036702\n",
            "\n",
            "Epoch 18/50\n"
          ]
        },
        {
          "output_type": "stream",
          "name": "stderr",
          "text": [
            "Epoch 18 - Loss=3.2998 - Acc=33.01% - LR=0.036332: 100%|██████████| 391/391 [01:53<00:00,  3.43it/s]\n"
          ]
        },
        {
          "output_type": "stream",
          "name": "stdout",
          "text": [
            "Test set: Average loss: 3.3285, Top-1 Accuracy: 3246/10000 (32.46%), Top-5 Accuracy: 6072/10000 (60.72%)\n",
            "New best model saved with test loss: 3.3285\n",
            "Current learning rate: 0.036332\n",
            "\n",
            "Epoch 19/50\n"
          ]
        },
        {
          "output_type": "stream",
          "name": "stderr",
          "text": [
            "Epoch 19 - Loss=3.2498 - Acc=34.23% - LR=0.035819: 100%|██████████| 391/391 [01:54<00:00,  3.43it/s]\n"
          ]
        },
        {
          "output_type": "stream",
          "name": "stdout",
          "text": [
            "Test set: Average loss: 3.3692, Top-1 Accuracy: 3145/10000 (31.45%), Top-5 Accuracy: 5956/10000 (59.56%)\n",
            "Current learning rate: 0.035819\n",
            "\n",
            "Epoch 20/50\n"
          ]
        },
        {
          "output_type": "stream",
          "name": "stderr",
          "text": [
            "Epoch 20 - Loss=3.2073 - Acc=35.21% - LR=0.035166: 100%|██████████| 391/391 [01:53<00:00,  3.44it/s]\n"
          ]
        },
        {
          "output_type": "stream",
          "name": "stdout",
          "text": [
            "Test set: Average loss: 3.4197, Top-1 Accuracy: 3144/10000 (31.44%), Top-5 Accuracy: 5865/10000 (58.65%)\n",
            "Current learning rate: 0.035166\n",
            "\n",
            "Epoch 21/50\n"
          ]
        },
        {
          "output_type": "stream",
          "name": "stderr",
          "text": [
            "Epoch 21 - Loss=3.1695 - Acc=36.15% - LR=0.034379: 100%|██████████| 391/391 [01:53<00:00,  3.43it/s]\n"
          ]
        },
        {
          "output_type": "stream",
          "name": "stdout",
          "text": [
            "Test set: Average loss: 3.4599, Top-1 Accuracy: 3026/10000 (30.26%), Top-5 Accuracy: 5734/10000 (57.34%)\n",
            "Current learning rate: 0.034379\n",
            "\n",
            "Epoch 22/50\n"
          ]
        },
        {
          "output_type": "stream",
          "name": "stderr",
          "text": [
            "Epoch 22 - Loss=3.1369 - Acc=36.83% - LR=0.033464: 100%|██████████| 391/391 [01:54<00:00,  3.43it/s]\n"
          ]
        },
        {
          "output_type": "stream",
          "name": "stdout",
          "text": [
            "Test set: Average loss: 3.2194, Top-1 Accuracy: 3498/10000 (34.98%), Top-5 Accuracy: 6364/10000 (63.64%)\n",
            "New best model saved with test loss: 3.2194\n",
            "Current learning rate: 0.033464\n",
            "\n",
            "Epoch 23/50\n"
          ]
        },
        {
          "output_type": "stream",
          "name": "stderr",
          "text": [
            "Epoch 23 - Loss=3.0906 - Acc=37.89% - LR=0.032429: 100%|██████████| 391/391 [01:53<00:00,  3.43it/s]\n"
          ]
        },
        {
          "output_type": "stream",
          "name": "stdout",
          "text": [
            "Test set: Average loss: 3.3419, Top-1 Accuracy: 3240/10000 (32.40%), Top-5 Accuracy: 6037/10000 (60.37%)\n",
            "Current learning rate: 0.032429\n",
            "\n",
            "Epoch 24/50\n"
          ]
        },
        {
          "output_type": "stream",
          "name": "stderr",
          "text": [
            "Epoch 24 - Loss=3.0579 - Acc=38.67% - LR=0.031282: 100%|██████████| 391/391 [01:53<00:00,  3.44it/s]\n"
          ]
        },
        {
          "output_type": "stream",
          "name": "stdout",
          "text": [
            "Test set: Average loss: 3.2622, Top-1 Accuracy: 3439/10000 (34.39%), Top-5 Accuracy: 6215/10000 (62.15%)\n",
            "Current learning rate: 0.031282\n",
            "\n",
            "Epoch 25/50\n"
          ]
        },
        {
          "output_type": "stream",
          "name": "stderr",
          "text": [
            "Epoch 25 - Loss=3.0244 - Acc=39.51% - LR=0.030031: 100%|██████████| 391/391 [01:53<00:00,  3.44it/s]\n"
          ]
        },
        {
          "output_type": "stream",
          "name": "stdout",
          "text": [
            "Test set: Average loss: 3.2123, Top-1 Accuracy: 3552/10000 (35.52%), Top-5 Accuracy: 6336/10000 (63.36%)\n",
            "New best model saved with test loss: 3.2123\n",
            "Current learning rate: 0.030031\n",
            "\n",
            "Epoch 26/50\n"
          ]
        },
        {
          "output_type": "stream",
          "name": "stderr",
          "text": [
            "Epoch 26 - Loss=2.9887 - Acc=40.51% - LR=0.028688: 100%|██████████| 391/391 [01:54<00:00,  3.42it/s]\n"
          ]
        },
        {
          "output_type": "stream",
          "name": "stdout",
          "text": [
            "Test set: Average loss: 3.0747, Top-1 Accuracy: 3840/10000 (38.40%), Top-5 Accuracy: 6656/10000 (66.56%)\n",
            "New best model saved with test loss: 3.0747\n",
            "Current learning rate: 0.028688\n",
            "\n",
            "Epoch 27/50\n"
          ]
        },
        {
          "output_type": "stream",
          "name": "stderr",
          "text": [
            "Epoch 27 - Loss=2.9547 - Acc=41.24% - LR=0.027263: 100%|██████████| 391/391 [01:53<00:00,  3.45it/s]\n"
          ]
        },
        {
          "output_type": "stream",
          "name": "stdout",
          "text": [
            "Test set: Average loss: 3.0140, Top-1 Accuracy: 4044/10000 (40.44%), Top-5 Accuracy: 6848/10000 (68.48%)\n",
            "New best model saved with test loss: 3.0140\n",
            "Current learning rate: 0.027263\n",
            "\n",
            "Epoch 28/50\n"
          ]
        },
        {
          "output_type": "stream",
          "name": "stderr",
          "text": [
            "Epoch 28 - Loss=2.9261 - Acc=41.85% - LR=0.025767: 100%|██████████| 391/391 [01:53<00:00,  3.44it/s]\n"
          ]
        },
        {
          "output_type": "stream",
          "name": "stdout",
          "text": [
            "Test set: Average loss: 3.1696, Top-1 Accuracy: 3695/10000 (36.95%), Top-5 Accuracy: 6408/10000 (64.08%)\n",
            "Current learning rate: 0.025767\n",
            "\n",
            "Epoch 29/50\n"
          ]
        },
        {
          "output_type": "stream",
          "name": "stderr",
          "text": [
            "Epoch 29 - Loss=2.8982 - Acc=42.53% - LR=0.024213: 100%|██████████| 391/391 [01:53<00:00,  3.43it/s]\n"
          ]
        },
        {
          "output_type": "stream",
          "name": "stdout",
          "text": [
            "Test set: Average loss: 3.0605, Top-1 Accuracy: 3908/10000 (39.08%), Top-5 Accuracy: 6641/10000 (66.41%)\n",
            "Current learning rate: 0.024213\n",
            "\n",
            "Epoch 30/50\n"
          ]
        },
        {
          "output_type": "stream",
          "name": "stderr",
          "text": [
            "Epoch 30 - Loss=2.8655 - Acc=43.29% - LR=0.022613: 100%|██████████| 391/391 [01:53<00:00,  3.44it/s]\n"
          ]
        },
        {
          "output_type": "stream",
          "name": "stdout",
          "text": [
            "Test set: Average loss: 3.0143, Top-1 Accuracy: 4013/10000 (40.13%), Top-5 Accuracy: 6784/10000 (67.84%)\n",
            "Current learning rate: 0.022613\n",
            "\n",
            "Epoch 31/50\n"
          ]
        },
        {
          "output_type": "stream",
          "name": "stderr",
          "text": [
            "Epoch 31 - Loss=2.8331 - Acc=44.25% - LR=0.020979: 100%|██████████| 391/391 [01:53<00:00,  3.45it/s]\n"
          ]
        },
        {
          "output_type": "stream",
          "name": "stdout",
          "text": [
            "Test set: Average loss: 2.9682, Top-1 Accuracy: 4124/10000 (41.24%), Top-5 Accuracy: 6897/10000 (68.97%)\n",
            "New best model saved with test loss: 2.9682\n",
            "Current learning rate: 0.020979\n",
            "\n",
            "Epoch 32/50\n"
          ]
        },
        {
          "output_type": "stream",
          "name": "stderr",
          "text": [
            "Epoch 32 - Loss=2.8009 - Acc=45.03% - LR=0.019326: 100%|██████████| 391/391 [01:53<00:00,  3.43it/s]\n"
          ]
        },
        {
          "output_type": "stream",
          "name": "stdout",
          "text": [
            "Test set: Average loss: 3.0391, Top-1 Accuracy: 4024/10000 (40.24%), Top-5 Accuracy: 6700/10000 (67.00%)\n",
            "Current learning rate: 0.019326\n",
            "\n",
            "Epoch 33/50\n"
          ]
        },
        {
          "output_type": "stream",
          "name": "stderr",
          "text": [
            "Epoch 33 - Loss=2.7686 - Acc=45.73% - LR=0.017666: 100%|██████████| 391/391 [01:53<00:00,  3.46it/s]\n"
          ]
        },
        {
          "output_type": "stream",
          "name": "stdout",
          "text": [
            "Test set: Average loss: 2.9181, Top-1 Accuracy: 4297/10000 (42.97%), Top-5 Accuracy: 6956/10000 (69.56%)\n",
            "New best model saved with test loss: 2.9181\n",
            "Current learning rate: 0.017666\n",
            "\n",
            "Epoch 34/50\n"
          ]
        },
        {
          "output_type": "stream",
          "name": "stderr",
          "text": [
            "Epoch 34 - Loss=2.7265 - Acc=46.87% - LR=0.016013: 100%|██████████| 391/391 [01:53<00:00,  3.45it/s]\n"
          ]
        },
        {
          "output_type": "stream",
          "name": "stdout",
          "text": [
            "Test set: Average loss: 2.8641, Top-1 Accuracy: 4407/10000 (44.07%), Top-5 Accuracy: 7113/10000 (71.13%)\n",
            "New best model saved with test loss: 2.8641\n",
            "Current learning rate: 0.016013\n",
            "\n",
            "Epoch 35/50\n"
          ]
        },
        {
          "output_type": "stream",
          "name": "stderr",
          "text": [
            "Epoch 35 - Loss=2.6957 - Acc=47.57% - LR=0.014379: 100%|██████████| 391/391 [01:53<00:00,  3.43it/s]\n"
          ]
        },
        {
          "output_type": "stream",
          "name": "stdout",
          "text": [
            "Test set: Average loss: 2.8488, Top-1 Accuracy: 4447/10000 (44.47%), Top-5 Accuracy: 7113/10000 (71.13%)\n",
            "New best model saved with test loss: 2.8488\n",
            "Current learning rate: 0.014379\n",
            "\n",
            "Epoch 36/50\n"
          ]
        },
        {
          "output_type": "stream",
          "name": "stderr",
          "text": [
            "Epoch 36 - Loss=2.6455 - Acc=49.03% - LR=0.012779: 100%|██████████| 391/391 [01:54<00:00,  3.42it/s]\n"
          ]
        },
        {
          "output_type": "stream",
          "name": "stdout",
          "text": [
            "Test set: Average loss: 2.8172, Top-1 Accuracy: 4519/10000 (45.19%), Top-5 Accuracy: 7188/10000 (71.88%)\n",
            "New best model saved with test loss: 2.8172\n",
            "Current learning rate: 0.012779\n",
            "\n",
            "Epoch 37/50\n"
          ]
        },
        {
          "output_type": "stream",
          "name": "stderr",
          "text": [
            "Epoch 37 - Loss=2.6047 - Acc=50.04% - LR=0.011225: 100%|██████████| 391/391 [01:53<00:00,  3.45it/s]\n"
          ]
        },
        {
          "output_type": "stream",
          "name": "stdout",
          "text": [
            "Test set: Average loss: 2.8021, Top-1 Accuracy: 4604/10000 (46.04%), Top-5 Accuracy: 7221/10000 (72.21%)\n",
            "New best model saved with test loss: 2.8021\n",
            "Current learning rate: 0.011225\n",
            "\n",
            "Epoch 38/50\n"
          ]
        },
        {
          "output_type": "stream",
          "name": "stderr",
          "text": [
            "Epoch 38 - Loss=2.5512 - Acc=51.37% - LR=0.009730: 100%|██████████| 391/391 [01:53<00:00,  3.44it/s]\n"
          ]
        },
        {
          "output_type": "stream",
          "name": "stdout",
          "text": [
            "Test set: Average loss: 2.7741, Top-1 Accuracy: 4648/10000 (46.48%), Top-5 Accuracy: 7322/10000 (73.22%)\n",
            "New best model saved with test loss: 2.7741\n",
            "Current learning rate: 0.009730\n",
            "\n",
            "Epoch 39/50\n"
          ]
        },
        {
          "output_type": "stream",
          "name": "stderr",
          "text": [
            "Epoch 39 - Loss=2.5029 - Acc=52.75% - LR=0.008305: 100%|██████████| 391/391 [01:54<00:00,  3.42it/s]\n"
          ]
        },
        {
          "output_type": "stream",
          "name": "stdout",
          "text": [
            "Test set: Average loss: 2.7124, Top-1 Accuracy: 4772/10000 (47.72%), Top-5 Accuracy: 7472/10000 (74.72%)\n",
            "New best model saved with test loss: 2.7124\n",
            "Current learning rate: 0.008305\n",
            "\n",
            "Epoch 40/50\n"
          ]
        },
        {
          "output_type": "stream",
          "name": "stderr",
          "text": [
            "Epoch 40 - Loss=2.4430 - Acc=54.36% - LR=0.006962: 100%|██████████| 391/391 [01:53<00:00,  3.44it/s]\n"
          ]
        },
        {
          "output_type": "stream",
          "name": "stdout",
          "text": [
            "Test set: Average loss: 2.7275, Top-1 Accuracy: 4781/10000 (47.81%), Top-5 Accuracy: 7423/10000 (74.23%)\n",
            "Current learning rate: 0.006962\n",
            "\n",
            "Epoch 41/50\n"
          ]
        },
        {
          "output_type": "stream",
          "name": "stderr",
          "text": [
            "Epoch 41 - Loss=2.3713 - Acc=56.22% - LR=0.005712: 100%|██████████| 391/391 [01:53<00:00,  3.46it/s]\n"
          ]
        },
        {
          "output_type": "stream",
          "name": "stdout",
          "text": [
            "Test set: Average loss: 2.6441, Top-1 Accuracy: 4984/10000 (49.84%), Top-5 Accuracy: 7589/10000 (75.89%)\n",
            "New best model saved with test loss: 2.6441\n",
            "Current learning rate: 0.005712\n",
            "\n",
            "Epoch 42/50\n"
          ]
        },
        {
          "output_type": "stream",
          "name": "stderr",
          "text": [
            "Epoch 42 - Loss=2.2990 - Acc=58.33% - LR=0.004566: 100%|██████████| 391/391 [01:53<00:00,  3.44it/s]\n"
          ]
        },
        {
          "output_type": "stream",
          "name": "stdout",
          "text": [
            "Test set: Average loss: 2.5960, Top-1 Accuracy: 5124/10000 (51.24%), Top-5 Accuracy: 7648/10000 (76.48%)\n",
            "New best model saved with test loss: 2.5960\n",
            "Current learning rate: 0.004566\n",
            "\n",
            "Epoch 43/50\n"
          ]
        },
        {
          "output_type": "stream",
          "name": "stderr",
          "text": [
            "Epoch 43 - Loss=2.2154 - Acc=60.47% - LR=0.003531: 100%|██████████| 391/391 [01:53<00:00,  3.43it/s]\n"
          ]
        },
        {
          "output_type": "stream",
          "name": "stdout",
          "text": [
            "Test set: Average loss: 2.5610, Top-1 Accuracy: 5217/10000 (52.17%), Top-5 Accuracy: 7719/10000 (77.19%)\n",
            "New best model saved with test loss: 2.5610\n",
            "Current learning rate: 0.003531\n",
            "\n",
            "Epoch 44/50\n"
          ]
        },
        {
          "output_type": "stream",
          "name": "stderr",
          "text": [
            "Epoch 44 - Loss=2.1278 - Acc=63.02% - LR=0.002617: 100%|██████████| 391/391 [01:53<00:00,  3.45it/s]\n"
          ]
        },
        {
          "output_type": "stream",
          "name": "stdout",
          "text": [
            "Test set: Average loss: 2.5210, Top-1 Accuracy: 5352/10000 (53.52%), Top-5 Accuracy: 7797/10000 (77.97%)\n",
            "New best model saved with test loss: 2.5210\n",
            "Current learning rate: 0.002617\n",
            "\n",
            "Epoch 45/50\n"
          ]
        },
        {
          "output_type": "stream",
          "name": "stderr",
          "text": [
            "Epoch 45 - Loss=2.0337 - Acc=65.87% - LR=0.001830: 100%|██████████| 391/391 [01:53<00:00,  3.44it/s]\n"
          ]
        },
        {
          "output_type": "stream",
          "name": "stdout",
          "text": [
            "Test set: Average loss: 2.4705, Top-1 Accuracy: 5468/10000 (54.68%), Top-5 Accuracy: 7886/10000 (78.86%)\n",
            "New best model saved with test loss: 2.4705\n",
            "Current learning rate: 0.001830\n",
            "\n",
            "Epoch 46/50\n"
          ]
        },
        {
          "output_type": "stream",
          "name": "stderr",
          "text": [
            "Epoch 46 - Loss=1.9425 - Acc=68.43% - LR=0.001178: 100%|██████████| 391/391 [01:53<00:00,  3.43it/s]\n"
          ]
        },
        {
          "output_type": "stream",
          "name": "stdout",
          "text": [
            "Test set: Average loss: 2.4281, Top-1 Accuracy: 5632/10000 (56.32%), Top-5 Accuracy: 7979/10000 (79.79%)\n",
            "New best model saved with test loss: 2.4281\n",
            "Current learning rate: 0.001178\n",
            "\n",
            "Epoch 47/50\n"
          ]
        },
        {
          "output_type": "stream",
          "name": "stderr",
          "text": [
            "Epoch 47 - Loss=1.8525 - Acc=71.36% - LR=0.000666: 100%|██████████| 391/391 [01:53<00:00,  3.45it/s]\n"
          ]
        },
        {
          "output_type": "stream",
          "name": "stdout",
          "text": [
            "Test set: Average loss: 2.4127, Top-1 Accuracy: 5646/10000 (56.46%), Top-5 Accuracy: 7982/10000 (79.82%)\n",
            "New best model saved with test loss: 2.4127\n",
            "Current learning rate: 0.000666\n",
            "\n",
            "Epoch 48/50\n"
          ]
        },
        {
          "output_type": "stream",
          "name": "stderr",
          "text": [
            "Epoch 48 - Loss=1.7853 - Acc=73.44% - LR=0.000297: 100%|██████████| 391/391 [01:53<00:00,  3.43it/s]\n"
          ]
        },
        {
          "output_type": "stream",
          "name": "stdout",
          "text": [
            "Test set: Average loss: 2.3980, Top-1 Accuracy: 5703/10000 (57.03%), Top-5 Accuracy: 8031/10000 (80.31%)\n",
            "New best model saved with test loss: 2.3980\n",
            "Current learning rate: 0.000297\n",
            "\n",
            "Epoch 49/50\n"
          ]
        },
        {
          "output_type": "stream",
          "name": "stderr",
          "text": [
            "Epoch 49 - Loss=1.7366 - Acc=75.02% - LR=0.000074: 100%|██████████| 391/391 [01:53<00:00,  3.44it/s]\n"
          ]
        },
        {
          "output_type": "stream",
          "name": "stdout",
          "text": [
            "Test set: Average loss: 2.3885, Top-1 Accuracy: 5758/10000 (57.58%), Top-5 Accuracy: 8050/10000 (80.50%)\n",
            "New best model saved with test loss: 2.3885\n",
            "Current learning rate: 0.000074\n",
            "\n",
            "Epoch 50/50\n"
          ]
        },
        {
          "output_type": "stream",
          "name": "stderr",
          "text": [
            "Epoch 50 - Loss=1.7182 - Acc=75.64% - LR=0.000000: 100%|██████████| 391/391 [01:54<00:00,  3.43it/s]\n"
          ]
        },
        {
          "output_type": "stream",
          "name": "stdout",
          "text": [
            "Test set: Average loss: 2.3869, Top-1 Accuracy: 5745/10000 (57.45%), Top-5 Accuracy: 8035/10000 (80.35%)\n",
            "New best model saved with test loss: 2.3869\n",
            "Current learning rate: 0.000000\n",
            "✅ Saved model: /content/gdrive/My Drive/models/tiny_imagenet_stage_1/final_model.pth\n",
            "✅ Saved metrics: /content/gdrive/My Drive/models/tiny_imagenet_stage_1/metrics.json\n",
            "✅ Metrics plot saved to /content/gdrive/My Drive/models/tiny_imagenet_stage_1/training_metrics.png\n",
            "✅ Saved training graphs: /content/gdrive/My Drive/models/tiny_imagenet_stage_1/training_metrics.png\n",
            "🧹 GPU memory cleared for next stage\n",
            "\n",
            "✅ Stage 1 completed!\n",
            "--------------------------------------------------------------------------------\n",
            "\n",
            "================================================================================\n",
            "🎉 ALL STAGES COMPLETE!\n",
            "================================================================================\n",
            "\n",
            "📊 Results Summary:\n",
            "Stage                Test Accuracy   Model Path                                                  \n",
            "-----------------------------------------------------------------------------------------------\n",
            "tiny_imagenet        57.45           /content/gdrive/My Drive/models/tiny_imagenet_stage_1/final_model.pth\n",
            "\n",
            "================================================================================\n",
            "📁 Base Save Directory: /content/gdrive/My Drive/models\n",
            "\n",
            "📦 For each stage, you'll find:\n",
            "  • final_model.pth - Trained model weights\n",
            "  • metrics.json - Training metrics\n",
            "  • training_metrics.png - Training curves graph\n",
            "\n",
            "================================================================================\n",
            "🔍 Verifying saved files:\n",
            "\n",
            "📂 Verifying saved files in: /content/gdrive/My Drive/models\n",
            "   Found 2 files:\n",
            "     • best_model_imagenette.pth (90.06 MB)\n",
            "     • best_model_tiny_imagenet.pth (91.55 MB)\n"
          ]
        }
      ],
      "source": [
        "\"\"\"\n",
        "PROGRESSIVE TRANSFER LEARNING - RUN SELECTED STAGES\n",
        "===================================================\n",
        "Train multiple stages in sequence with automatic weight transfer.\n",
        "\"\"\"\n",
        "\n",
        "import json\n",
        "from datetime import datetime\n",
        "\n",
        "# ⚙️ CONFIGURATION - Choose which stages to run\n",
        "# ================================================\n",
        "STAGES_TO_RUN = [ \"tiny_imagenet\"]  # Modify this list\n",
        "# Options: \"imagenette\", \"tiny_imagenet\", \"imagenet_mini\", \"imagenet\"\n",
        "# Order matters! Stages run in sequence with weight transfer\n",
        "\n",
        "USE_PRETRAINED_FOR_FIRST_STAGE = True  # Start with ImageNet pretrained weights?\n",
        "SAVE_RESULTS_AT_EACH_STAGE = True  # Save models and metrics at each stage?\n",
        "\n",
        "# Results storage\n",
        "all_stage_results = {}\n",
        "pretrained_weights_path = \"/content/gdrive/My Drive/models/weights_for_tiny_imagenet.pth\"\n",
        "\n",
        "# Verify save path exists (create if needed)\n",
        "print(\"🚀 Progressive Transfer Learning Training\")\n",
        "print(f\"Stages to run: {STAGES_TO_RUN}\")\n",
        "print(f\"Start with pretrained: {USE_PRETRAINED_FOR_FIRST_STAGE}\")\n",
        "print(f\"Save at each stage: {SAVE_RESULTS_AT_EACH_STAGE}\")\n",
        "print(\"=\"*80)\n",
        "\n",
        "# Check if save path exists\n",
        "save_path = Config.SAVE_MODEL_PATH\n",
        "if not os.path.exists(save_path):\n",
        "    print(f\"\\n⚠️ Save path doesn't exist: {save_path}\")\n",
        "    print(f\"Creating directory...\")\n",
        "    os.makedirs(save_path, exist_ok=True)\n",
        "    print(f\"✅ Created: {save_path}\")\n",
        "else:\n",
        "    print(f\"\\n📁 Models will be saved to: {save_path}\")\n",
        "    print(f\"   (Directory exists)\")\n",
        "\n",
        "# Verify Google Drive is mounted (if using /gdrive)\n",
        "if save_path.startswith('/content/gdrive'):\n",
        "    gdrive_root = '/content/gdrive'\n",
        "    if not os.path.exists(gdrive_root):\n",
        "        print(f\"\\n❌ ERROR: Google Drive not mounted!\")\n",
        "        print(f\"Please run the 'Mount Google Drive' cell (Cell 11) first.\")\n",
        "        print(f\"After mounting, Google Drive will be available at: /content/gdrive\")\n",
        "    else:\n",
        "        print(f\"✅ Google Drive is mounted at: {gdrive_root}\")\n",
        "\n",
        "print(\"=\"*80)\n",
        "\n",
        "for i, stage_name in enumerate(STAGES_TO_RUN, 1):\n",
        "    print(f\"\\n{'='*80}\")\n",
        "    print(f\"STAGE {i}/{len(STAGES_TO_RUN)}: {stage_name.upper()}\")\n",
        "    print(f\"{'='*80}\")\n",
        "\n",
        "    # Update configuration for this stage\n",
        "    Config.update_for_dataset(stage_name)\n",
        "\n",
        "    # Get stage configuration\n",
        "    stage_config = Config.STAGES[stage_name]\n",
        "    print(f\"Classes: {stage_config['classes']}\")\n",
        "    print(f\"Image size: {stage_config['image_size']}\")\n",
        "    print(f\"Epochs: {stage_config['epochs']}\")\n",
        "    print(f\"Batch size: {stage_config['batch_size']}\")\n",
        "    print(f\"LR: {stage_config['lr']}\")\n",
        "    print(f\"Previous weights: {pretrained_weights_path or 'None (fresh start)'}\")\n",
        "\n",
        "    # Load dataset\n",
        "    print(f\"\\n📦 Loading {stage_name} dataset...\")\n",
        "    train_loader, test_loader = get_data_loaders(stage_name)\n",
        "\n",
        "    # Create model\n",
        "    print(f\"\\n🧠 Creating model for {stage_name}...\")\n",
        "    use_pretrained = USE_PRETRAINED_FOR_FIRST_STAGE if (i == 1 and not pretrained_weights_path) else False\n",
        "    model = get_model(\n",
        "        model_name=Config.MODEL_NAME,\n",
        "        dataset_name=stage_name,\n",
        "        pretrained=use_pretrained\n",
        "    )\n",
        "    model = model.to(device)\n",
        "    print(f\"Model created: {count_parameters(model):,} parameters\")\n",
        "    # LR finder should run on the model with pretrained weights if using previous stages\n",
        "    optimal_lr = run_lr_finder(model,stage_name ,num_iter=200)\n",
        "\n",
        "    print(f\"\\n✅ Update config.py:\")\n",
        "    print(f\"   'lr': {optimal_lr:.6f}\")\n",
        "\n",
        "    # Determine next stage name for weight saving\n",
        "    next_stage = STAGES_TO_RUN[i] if i < len(STAGES_TO_RUN) else None\n",
        "\n",
        "    # Train with transfer learning\n",
        "    print(f\"\\n🏋️ Training {stage_name}...\")\n",
        "    metrics_tracker, final_weights = train_model_with_transfer(\n",
        "        model=model,\n",
        "        train_loader=train_loader,\n",
        "        test_loader=test_loader,\n",
        "        device=device,\n",
        "        config=Config,\n",
        "        pretrained_weights_path=pretrained_weights_path,\n",
        "        next_stage_name=next_stage,\n",
        "        dataset_name=stage_name\n",
        "    )\n",
        "\n",
        "    # Save results if requested\n",
        "    if SAVE_RESULTS_AT_EACH_STAGE:\n",
        "        stage_save_dir = f\"{Config.SAVE_MODEL_PATH}/{stage_name}_stage_{i}\"\n",
        "        os.makedirs(stage_save_dir, exist_ok=True)\n",
        "\n",
        "        # Save final model\n",
        "        final_model_path = f\"{stage_save_dir}/final_model.pth\"\n",
        "        torch.save(model.state_dict(), final_model_path)\n",
        "        print(f\"✅ Saved model: {final_model_path}\")\n",
        "\n",
        "        # Save metrics\n",
        "        metrics_data = {\n",
        "            \"stage\": stage_name,\n",
        "            \"stage_number\": i,\n",
        "            \"final_train_loss\": metrics_tracker.train_losses[-1] if metrics_tracker.train_losses else None,\n",
        "            \"final_train_acc\": metrics_tracker.train_acc[-1] if metrics_tracker.train_acc else None,\n",
        "            \"final_test_loss\": metrics_tracker.test_losses[-1] if metrics_tracker.test_losses else None,\n",
        "            \"final_test_acc\": metrics_tracker.test_acc[-1] if metrics_tracker.test_acc else None,\n",
        "            \"config\": stage_config\n",
        "        }\n",
        "\n",
        "        metrics_path = f\"{stage_save_dir}/metrics.json\"\n",
        "        with open(metrics_path, 'w') as f:\n",
        "            json.dump(metrics_data, f, indent=2)\n",
        "        print(f\"✅ Saved metrics: {metrics_path}\")\n",
        "\n",
        "        # Save metrics plot (graph with training curves)\n",
        "        plot_path = f\"{stage_save_dir}/training_metrics.png\"\n",
        "        metrics_tracker.plot_metrics(save_path=plot_path)\n",
        "        print(f\"✅ Saved training graphs: {plot_path}\")\n",
        "\n",
        "        all_stage_results[stage_name] = {\n",
        "            \"metrics\": metrics_data,\n",
        "            \"model_path\": final_model_path,\n",
        "            \"plot_path\": plot_path\n",
        "        }\n",
        "\n",
        "        # Set weights path for next stage\n",
        "    if next_stage:\n",
        "        pretrained_weights_path = f\"{Config.SAVE_MODEL_PATH}/weights_for_{next_stage}.pth\"\n",
        "\n",
        "    # Free GPU memory before moving to next stage\n",
        "    if torch.cuda.is_available():\n",
        "        del model  # Delete model to free memory\n",
        "        del metrics_tracker  # Delete metrics tracker\n",
        "        torch.cuda.empty_cache()  # Clear CUDA cache\n",
        "        print(\"🧹 GPU memory cleared for next stage\")\n",
        "\n",
        "    print(f\"\\n✅ Stage {i} completed!\")\n",
        "    print(\"-\"*80)\n",
        "\n",
        "# Final summary\n",
        "print(\"\\n\" + \"=\"*80)\n",
        "print(\"🎉 ALL STAGES COMPLETE!\")\n",
        "print(\"=\"*80)\n",
        "if SAVE_RESULTS_AT_EACH_STAGE:\n",
        "    print(\"\\n📊 Results Summary:\")\n",
        "    print(f\"{'Stage':<20} {'Test Accuracy':<15} {'Model Path':<60}\")\n",
        "    print(\"-\"*95)\n",
        "    for stage_name, result in all_stage_results.items():\n",
        "        final_test_acc = result['metrics'].get('final_test_acc', 'N/A')\n",
        "        model_path = result.get('model_path', 'N/A')\n",
        "        if isinstance(final_test_acc, (int, float)):\n",
        "            print(f\"{stage_name:<20} {final_test_acc:<15.2f} {model_path}\")\n",
        "        else:\n",
        "            print(f\"{stage_name:<20} {str(final_test_acc):<15} {model_path}\")\n",
        "\n",
        "    print(f\"\\n{'='*80}\")\n",
        "    print(f\"📁 Base Save Directory: {Config.SAVE_MODEL_PATH}\")\n",
        "    if Config.SAVE_MODEL_PATH.startswith('/gdrive'):\n",
        "        print(f\"📂 Location: Google Drive (My Drive/models)\")\n",
        "    print(f\"\\n📦 For each stage, you'll find:\")\n",
        "    print(f\"  • final_model.pth - Trained model weights\")\n",
        "    print(f\"  • metrics.json - Training metrics\")\n",
        "    print(f\"  • training_metrics.png - Training curves graph\")\n",
        "\n",
        "    # Verify files were actually saved\n",
        "    print(f\"\\n{'='*80}\")\n",
        "    print(\"🔍 Verifying saved files:\")\n",
        "    verify_saved_files(Config.SAVE_MODEL_PATH)\n"
      ]
    },
    {
      "cell_type": "code",
      "source": [],
      "metadata": {
        "id": "11_3RqBvvW50"
      },
      "execution_count": 11,
      "outputs": []
    },
    {
      "cell_type": "code",
      "execution_count": 12,
      "metadata": {
        "id": "Kt0uYfbpnQlK",
        "colab": {
          "base_uri": "https://localhost:8080/",
          "height": 176
        },
        "outputId": "3fe7cbd3-bf39-4542-87a2-cd70d6f29ad3"
      },
      "outputs": [
        {
          "output_type": "error",
          "ename": "NameError",
          "evalue": "name 'model' is not defined",
          "traceback": [
            "\u001b[0;31m---------------------------------------------------------------------------\u001b[0m",
            "\u001b[0;31mNameError\u001b[0m                                 Traceback (most recent call last)",
            "\u001b[0;32m/tmp/ipython-input-823241966.py\u001b[0m in \u001b[0;36m<cell line: 0>\u001b[0;34m()\u001b[0m\n\u001b[1;32m      1\u001b[0m \u001b[0mdrive_model_path\u001b[0m \u001b[0;34m=\u001b[0m \u001b[0;34mf\"{Config.DRIVE_MODEL_PATH}/final_model.pth\"\u001b[0m\u001b[0;34m\u001b[0m\u001b[0;34m\u001b[0m\u001b[0m\n\u001b[0;32m----> 2\u001b[0;31m \u001b[0msave_model\u001b[0m\u001b[0;34m(\u001b[0m\u001b[0mmodel\u001b[0m\u001b[0;34m,\u001b[0m \u001b[0mdrive_model_path\u001b[0m\u001b[0;34m,\u001b[0m \u001b[0mepoch\u001b[0m\u001b[0;34m=\u001b[0m\u001b[0;36m30\u001b[0m\u001b[0;34m,\u001b[0m \u001b[0mloss\u001b[0m\u001b[0;34m=\u001b[0m\u001b[0;36m0\u001b[0m\u001b[0;34m)\u001b[0m\u001b[0;34m\u001b[0m\u001b[0;34m\u001b[0m\u001b[0m\n\u001b[0m\u001b[1;32m      3\u001b[0m \u001b[0mprint\u001b[0m\u001b[0;34m(\u001b[0m\u001b[0;34mf\"Model also saved to Google Drive: {drive_model_path}\"\u001b[0m\u001b[0;34m)\u001b[0m\u001b[0;34m\u001b[0m\u001b[0;34m\u001b[0m\u001b[0m\n",
            "\u001b[0;31mNameError\u001b[0m: name 'model' is not defined"
          ]
        }
      ],
      "source": [
        "\n",
        "drive_model_path = f\"{Config.DRIVE_MODEL_PATH}/final_model.pth\"\n",
        "save_model(model, drive_model_path, epoch=30, loss=0)\n",
        "print(f\"Model also saved to Google Drive: {drive_model_path}\")\n"
      ]
    }
  ],
  "metadata": {
    "accelerator": "GPU",
    "colab": {
      "gpuType": "T4",
      "provenance": []
    },
    "kernelspec": {
      "display_name": "Python 3",
      "name": "python3"
    },
    "language_info": {
      "name": "python"
    },
    "widgets": {
      "application/vnd.jupyter.widget-state+json": {
        "86244c9f54ca41e6bb47211463355e11": {
          "model_module": "@jupyter-widgets/controls",
          "model_name": "HBoxModel",
          "model_module_version": "1.5.0",
          "state": {
            "_dom_classes": [],
            "_model_module": "@jupyter-widgets/controls",
            "_model_module_version": "1.5.0",
            "_model_name": "HBoxModel",
            "_view_count": null,
            "_view_module": "@jupyter-widgets/controls",
            "_view_module_version": "1.5.0",
            "_view_name": "HBoxView",
            "box_style": "",
            "children": [
              "IPY_MODEL_199f8b9a7cb345819189b785ac769c2e",
              "IPY_MODEL_ecf08cc0cbdf4668b50fbb0d288bb0d3",
              "IPY_MODEL_27ea5b5783944d2d8ce62e273691308e"
            ],
            "layout": "IPY_MODEL_2a3fbc74ebdb4675b8be7108d89e5a79"
          }
        },
        "199f8b9a7cb345819189b785ac769c2e": {
          "model_module": "@jupyter-widgets/controls",
          "model_name": "HTMLModel",
          "model_module_version": "1.5.0",
          "state": {
            "_dom_classes": [],
            "_model_module": "@jupyter-widgets/controls",
            "_model_module_version": "1.5.0",
            "_model_name": "HTMLModel",
            "_view_count": null,
            "_view_module": "@jupyter-widgets/controls",
            "_view_module_version": "1.5.0",
            "_view_name": "HTMLView",
            "description": "",
            "description_tooltip": null,
            "layout": "IPY_MODEL_9c91261b12ff4c3eb676f1bea37717e4",
            "placeholder": "​",
            "style": "IPY_MODEL_57d1bd9776cb4029b1eff844a3d41f67",
            "value": "100%"
          }
        },
        "ecf08cc0cbdf4668b50fbb0d288bb0d3": {
          "model_module": "@jupyter-widgets/controls",
          "model_name": "FloatProgressModel",
          "model_module_version": "1.5.0",
          "state": {
            "_dom_classes": [],
            "_model_module": "@jupyter-widgets/controls",
            "_model_module_version": "1.5.0",
            "_model_name": "FloatProgressModel",
            "_view_count": null,
            "_view_module": "@jupyter-widgets/controls",
            "_view_module_version": "1.5.0",
            "_view_name": "ProgressView",
            "bar_style": "success",
            "description": "",
            "description_tooltip": null,
            "layout": "IPY_MODEL_2d2e89e2304c4f8abc69ed15c55a3679",
            "max": 200,
            "min": 0,
            "orientation": "horizontal",
            "style": "IPY_MODEL_d063cf16e9c64b5fb88a96b7a018871f",
            "value": 200
          }
        },
        "27ea5b5783944d2d8ce62e273691308e": {
          "model_module": "@jupyter-widgets/controls",
          "model_name": "HTMLModel",
          "model_module_version": "1.5.0",
          "state": {
            "_dom_classes": [],
            "_model_module": "@jupyter-widgets/controls",
            "_model_module_version": "1.5.0",
            "_model_name": "HTMLModel",
            "_view_count": null,
            "_view_module": "@jupyter-widgets/controls",
            "_view_module_version": "1.5.0",
            "_view_name": "HTMLView",
            "description": "",
            "description_tooltip": null,
            "layout": "IPY_MODEL_da57181cd0a94963a99459a532582bc3",
            "placeholder": "​",
            "style": "IPY_MODEL_2f4e3bef83654296bed8cd50434ef71f",
            "value": " 200/200 [00:59&lt;00:00,  3.52it/s]"
          }
        },
        "2a3fbc74ebdb4675b8be7108d89e5a79": {
          "model_module": "@jupyter-widgets/base",
          "model_name": "LayoutModel",
          "model_module_version": "1.2.0",
          "state": {
            "_model_module": "@jupyter-widgets/base",
            "_model_module_version": "1.2.0",
            "_model_name": "LayoutModel",
            "_view_count": null,
            "_view_module": "@jupyter-widgets/base",
            "_view_module_version": "1.2.0",
            "_view_name": "LayoutView",
            "align_content": null,
            "align_items": null,
            "align_self": null,
            "border": null,
            "bottom": null,
            "display": null,
            "flex": null,
            "flex_flow": null,
            "grid_area": null,
            "grid_auto_columns": null,
            "grid_auto_flow": null,
            "grid_auto_rows": null,
            "grid_column": null,
            "grid_gap": null,
            "grid_row": null,
            "grid_template_areas": null,
            "grid_template_columns": null,
            "grid_template_rows": null,
            "height": null,
            "justify_content": null,
            "justify_items": null,
            "left": null,
            "margin": null,
            "max_height": null,
            "max_width": null,
            "min_height": null,
            "min_width": null,
            "object_fit": null,
            "object_position": null,
            "order": null,
            "overflow": null,
            "overflow_x": null,
            "overflow_y": null,
            "padding": null,
            "right": null,
            "top": null,
            "visibility": null,
            "width": null
          }
        },
        "9c91261b12ff4c3eb676f1bea37717e4": {
          "model_module": "@jupyter-widgets/base",
          "model_name": "LayoutModel",
          "model_module_version": "1.2.0",
          "state": {
            "_model_module": "@jupyter-widgets/base",
            "_model_module_version": "1.2.0",
            "_model_name": "LayoutModel",
            "_view_count": null,
            "_view_module": "@jupyter-widgets/base",
            "_view_module_version": "1.2.0",
            "_view_name": "LayoutView",
            "align_content": null,
            "align_items": null,
            "align_self": null,
            "border": null,
            "bottom": null,
            "display": null,
            "flex": null,
            "flex_flow": null,
            "grid_area": null,
            "grid_auto_columns": null,
            "grid_auto_flow": null,
            "grid_auto_rows": null,
            "grid_column": null,
            "grid_gap": null,
            "grid_row": null,
            "grid_template_areas": null,
            "grid_template_columns": null,
            "grid_template_rows": null,
            "height": null,
            "justify_content": null,
            "justify_items": null,
            "left": null,
            "margin": null,
            "max_height": null,
            "max_width": null,
            "min_height": null,
            "min_width": null,
            "object_fit": null,
            "object_position": null,
            "order": null,
            "overflow": null,
            "overflow_x": null,
            "overflow_y": null,
            "padding": null,
            "right": null,
            "top": null,
            "visibility": null,
            "width": null
          }
        },
        "57d1bd9776cb4029b1eff844a3d41f67": {
          "model_module": "@jupyter-widgets/controls",
          "model_name": "DescriptionStyleModel",
          "model_module_version": "1.5.0",
          "state": {
            "_model_module": "@jupyter-widgets/controls",
            "_model_module_version": "1.5.0",
            "_model_name": "DescriptionStyleModel",
            "_view_count": null,
            "_view_module": "@jupyter-widgets/base",
            "_view_module_version": "1.2.0",
            "_view_name": "StyleView",
            "description_width": ""
          }
        },
        "2d2e89e2304c4f8abc69ed15c55a3679": {
          "model_module": "@jupyter-widgets/base",
          "model_name": "LayoutModel",
          "model_module_version": "1.2.0",
          "state": {
            "_model_module": "@jupyter-widgets/base",
            "_model_module_version": "1.2.0",
            "_model_name": "LayoutModel",
            "_view_count": null,
            "_view_module": "@jupyter-widgets/base",
            "_view_module_version": "1.2.0",
            "_view_name": "LayoutView",
            "align_content": null,
            "align_items": null,
            "align_self": null,
            "border": null,
            "bottom": null,
            "display": null,
            "flex": null,
            "flex_flow": null,
            "grid_area": null,
            "grid_auto_columns": null,
            "grid_auto_flow": null,
            "grid_auto_rows": null,
            "grid_column": null,
            "grid_gap": null,
            "grid_row": null,
            "grid_template_areas": null,
            "grid_template_columns": null,
            "grid_template_rows": null,
            "height": null,
            "justify_content": null,
            "justify_items": null,
            "left": null,
            "margin": null,
            "max_height": null,
            "max_width": null,
            "min_height": null,
            "min_width": null,
            "object_fit": null,
            "object_position": null,
            "order": null,
            "overflow": null,
            "overflow_x": null,
            "overflow_y": null,
            "padding": null,
            "right": null,
            "top": null,
            "visibility": null,
            "width": null
          }
        },
        "d063cf16e9c64b5fb88a96b7a018871f": {
          "model_module": "@jupyter-widgets/controls",
          "model_name": "ProgressStyleModel",
          "model_module_version": "1.5.0",
          "state": {
            "_model_module": "@jupyter-widgets/controls",
            "_model_module_version": "1.5.0",
            "_model_name": "ProgressStyleModel",
            "_view_count": null,
            "_view_module": "@jupyter-widgets/base",
            "_view_module_version": "1.2.0",
            "_view_name": "StyleView",
            "bar_color": null,
            "description_width": ""
          }
        },
        "da57181cd0a94963a99459a532582bc3": {
          "model_module": "@jupyter-widgets/base",
          "model_name": "LayoutModel",
          "model_module_version": "1.2.0",
          "state": {
            "_model_module": "@jupyter-widgets/base",
            "_model_module_version": "1.2.0",
            "_model_name": "LayoutModel",
            "_view_count": null,
            "_view_module": "@jupyter-widgets/base",
            "_view_module_version": "1.2.0",
            "_view_name": "LayoutView",
            "align_content": null,
            "align_items": null,
            "align_self": null,
            "border": null,
            "bottom": null,
            "display": null,
            "flex": null,
            "flex_flow": null,
            "grid_area": null,
            "grid_auto_columns": null,
            "grid_auto_flow": null,
            "grid_auto_rows": null,
            "grid_column": null,
            "grid_gap": null,
            "grid_row": null,
            "grid_template_areas": null,
            "grid_template_columns": null,
            "grid_template_rows": null,
            "height": null,
            "justify_content": null,
            "justify_items": null,
            "left": null,
            "margin": null,
            "max_height": null,
            "max_width": null,
            "min_height": null,
            "min_width": null,
            "object_fit": null,
            "object_position": null,
            "order": null,
            "overflow": null,
            "overflow_x": null,
            "overflow_y": null,
            "padding": null,
            "right": null,
            "top": null,
            "visibility": null,
            "width": null
          }
        },
        "2f4e3bef83654296bed8cd50434ef71f": {
          "model_module": "@jupyter-widgets/controls",
          "model_name": "DescriptionStyleModel",
          "model_module_version": "1.5.0",
          "state": {
            "_model_module": "@jupyter-widgets/controls",
            "_model_module_version": "1.5.0",
            "_model_name": "DescriptionStyleModel",
            "_view_count": null,
            "_view_module": "@jupyter-widgets/base",
            "_view_module_version": "1.2.0",
            "_view_name": "StyleView",
            "description_width": ""
          }
        }
      }
    }
  },
  "nbformat": 4,
  "nbformat_minor": 0
}