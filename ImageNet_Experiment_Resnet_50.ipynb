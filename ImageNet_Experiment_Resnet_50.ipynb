{
  "cells": [
    {
      "cell_type": "markdown",
      "metadata": {},
      "source": [
        "# Multi-Dataset ImageNet Training with ResNet50 - Modular Version\n",
        "\n",
        "This notebook demonstrates training ResNet50 on multiple ImageNet variants using a modular approach. The code supports experiments across different datasets for comprehensive analysis.\n",
        "\n",
        "## Supported Datasets:\n",
        "- **ImageNette**: 10 classes, 224x224 images (fastest for experiments)\n",
        "- **Tiny ImageNet**: 200 classes, 64x64 images (medium complexity)\n",
        "- **ImageNet Mini**: 1000 classes, 224x224 images (subset of full ImageNet)\n",
        "- **Full ImageNet**: 1000 classes, 224x224 images (full dataset)\n",
        "\n",
        "## Features:\n",
        "- **Modular Design**: Separate modules for configuration, data loading, models, and training utilities\n",
        "- **Multi-Dataset Support**: Easy switching between different ImageNet variants\n",
        "- **Dataset-Specific Training**: Optimized hyperparameters for each dataset\n",
        "- **Comprehensive Metrics**: Tracks training and validation metrics\n",
        "- **Model Saving**: Automatic model checkpointing with dataset-specific naming\n"
      ]
    },
    {
      "cell_type": "code",
      "execution_count": null,
      "metadata": {},
      "outputs": [],
      "source": [
        "# Install required packages\n",
        "%pip install torchsummary albumentations\n"
      ]
    },
    {
      "cell_type": "code",
      "execution_count": null,
      "metadata": {},
      "outputs": [],
      "source": [
        "# Import all necessary libraries\n",
        "import torch\n",
        "import torch.nn as nn\n",
        "import torch.optim as optim\n",
        "import torchvision\n",
        "import matplotlib.pyplot as plt\n",
        "import numpy as np\n",
        "import os\n",
        "from google.colab import drive\n",
        "\n",
        "# Import our modular components\n",
        "from config import Config\n",
        "from dataset_loader import get_data_loaders, visualize_samples\n",
        "from models import get_model, count_parameters, get_model_summary, save_model\n",
        "from training_utils import train_model, evaluate_model, MetricsTracker\n",
        "\n",
        "print(\"All imports successful!\")\n",
        "print(f\"PyTorch version: {torch.__version__}\")\n",
        "print(f\"CUDA available: {torch.cuda.is_available()}\")\n"
      ]
    },
    {
      "cell_type": "markdown",
      "metadata": {},
      "source": [
        "## Configuration\n",
        "\n",
        "Let's configure our training parameters. You can easily switch between datasets and modify training parameters here.\n"
      ]
    },
    {
      "cell_type": "code",
      "execution_count": null,
      "metadata": {},
      "outputs": [],
      "source": [
        "# Configuration setup for multi-dataset experiments\n",
        "# You can easily switch between datasets by changing DATASET_NAME\n",
        "\n",
        "# Dataset configuration\n",
        "DATASET_NAME = \"imagenette\"  # Options: \"imagenette\", \"tiny_imagenet\", \"imagenet_mini\", \"imagenet\"\n",
        "USE_PRETRAINED = False  # Custom implementation without pretrained weights\n",
        "\n",
        "# Update configuration for the selected dataset\n",
        "Config.update_for_dataset(DATASET_NAME)\n",
        "\n",
        "print(\"Configuration updated!\")\n",
        "print(f\"Dataset: {DATASET_NAME}\")\n",
        "print(f\"Image size: {Config.IMAGE_SIZE}\")\n",
        "print(f\"Number of classes: {Config.NUM_CLASSES}\")\n",
        "print(f\"Batch size: {Config.BATCH_SIZE}\")\n",
        "print(f\"Epochs: {Config.NUM_EPOCHS}\")\n",
        "print(f\"Learning rate: {Config.LEARNING_RATE}\")\n",
        "print(f\"Use pretrained: {USE_PRETRAINED}\")\n",
        "\n",
        "# Display dataset-specific training parameters\n",
        "dataset_config = Config.get_dataset_config()\n",
        "print(f\"\\nDataset-specific parameters:\")\n",
        "print(f\"Optimizer: {dataset_config['optimizer']}\")\n",
        "print(f\"Scheduler: {dataset_config['scheduler']}\")\n"
      ]
    },
    {
      "cell_type": "markdown",
      "metadata": {},
      "source": [
        "## Environment Setup\n",
        "\n",
        "Setup the environment and check GPU availability. For full ImageNet training, you'll need significant computational resources.\n"
      ]
    },
    {
      "cell_type": "code",
      "execution_count": null,
      "metadata": {},
      "outputs": [],
      "source": [
        "# Setup environment\n",
        "def setup_environment():\n",
        "    \"\"\"Setup environment for ImageNet training\"\"\"\n",
        "    print(\"Setting up environment for ImageNet training...\")\n",
        "    \n",
        "    # Create necessary directories\n",
        "    os.makedirs(Config.DATA_ROOT, exist_ok=True)\n",
        "    os.makedirs(Config.SAVE_MODEL_PATH, exist_ok=True)\n",
        "    \n",
        "    print(\"Environment setup complete!\")\n",
        "\n",
        "def check_gpu_availability():\n",
        "    \"\"\"Check GPU availability and setup device\"\"\"\n",
        "    device = torch.device(\"cuda\" if torch.cuda.is_available() else \"cpu\")\n",
        "    print(f\"Using device: {device}\")\n",
        "    \n",
        "    if torch.cuda.is_available():\n",
        "        print(f\"GPU: {torch.cuda.get_device_name(0)}\")\n",
        "        print(f\"GPU Memory: {torch.cuda.get_device_properties(0).total_memory / 1e9:.1f} GB\")\n",
        "        print(\"Warning: Full ImageNet training requires significant GPU memory!\")\n",
        "    else:\n",
        "        print(\"Warning: CPU training will be very slow for ImageNet!\")\n",
        "    \n",
        "    return device\n",
        "\n",
        "# Run setup\n",
        "setup_environment()\n",
        "device = check_gpu_availability()\n",
        "\n",
        "# Set random seed for reproducibility\n",
        "torch.manual_seed(42)\n",
        "if torch.cuda.is_available():\n",
        "    torch.cuda.manual_seed(42)\n"
      ]
    },
    {
      "cell_type": "markdown",
      "metadata": {},
      "source": [
        "## Data Loading\n",
        "\n",
        "Load the dataset and visualize some sample images.\n"
      ]
    },
    {
      "cell_type": "code",
      "execution_count": null,
      "metadata": {},
      "outputs": [],
      "source": [
        "# Load dataset\n",
        "print(\"Loading dataset...\")\n",
        "train_loader, test_loader = get_data_loaders(DATASET_NAME)\n",
        "\n",
        "# Visualize some samples\n",
        "print(\"\\nVisualizing sample images...\")\n",
        "visualize_samples(train_loader, num_samples=12)\n"
      ]
    },
    {
      "cell_type": "markdown",
      "metadata": {},
      "source": [
        "## Model Creation\n",
        "\n",
        "Create the ResNet50 model and display its architecture.\n"
      ]
    },
    {
      "cell_type": "code",
      "execution_count": null,
      "metadata": {},
      "outputs": [],
      "source": [
        "# Create model\n",
        "print(f\"Creating {Config.MODEL_NAME} model...\")\n",
        "model = get_model(\n",
        "    model_name=Config.MODEL_NAME,\n",
        "    dataset_name=DATASET_NAME,\n",
        "    pretrained=USE_PRETRAINED\n",
        ")\n",
        "\n",
        "# Move model to device\n",
        "model = model.to(device)\n",
        "\n",
        "# Print model info\n",
        "print(f\"Model parameters: {count_parameters(model):,}\")\n",
        "\n",
        "# Get model summary\n",
        "dataset_config = Config.get_dataset_config()\n",
        "input_size = (3, dataset_config[\"image_size\"], dataset_config[\"image_size\"])\n",
        "print(f\"\\nModel summary (input size: {input_size}):\")\n",
        "get_model_summary(model, input_size=input_size)\n"
      ]
    },
    {
      "cell_type": "markdown",
      "metadata": {},
      "source": [
        "## Training\n",
        "\n",
        "Train the model using our modular training utilities.\n"
      ]
    },
    {
      "cell_type": "code",
      "execution_count": null,
      "metadata": {},
      "outputs": [],
      "source": [
        "# Train model\n",
        "print(f\"Starting training for {NUM_EPOCHS} epochs...\")\n",
        "print(f\"Batch size: {BATCH_SIZE}\")\n",
        "print(f\"Learning rate: {LEARNING_RATE}\")\n",
        "print(f\"Weight decay: {WEIGHT_DECAY}\")\n",
        "\n",
        "metrics_tracker = train_model(model, train_loader, test_loader, device, Config)\n"
      ]
    },
    {
      "cell_type": "markdown",
      "metadata": {},
      "source": [
        "## Results Visualization\n",
        "\n",
        "Plot the training metrics and evaluate the final model.\n"
      ]
    },
    {
      "cell_type": "code",
      "execution_count": null,
      "metadata": {},
      "outputs": [],
      "source": [
        "# Plot training metrics\n",
        "print(\"Plotting training metrics...\")\n",
        "metrics_tracker.plot_metrics(save_path=f\"{Config.SAVE_MODEL_PATH}/training_metrics.png\")\n",
        "\n",
        "# Final evaluation\n",
        "print(\"\\nFinal evaluation...\")\n",
        "test_loss, test_acc, test_top5_acc = evaluate_model(model, test_loader, device)\n",
        "\n",
        "print(f\"\\nTraining completed!\")\n",
        "print(f\"Final Test Accuracy: {test_acc:.2f}%\")\n",
        "print(f\"Final Top-5 Accuracy: {test_top5_acc:.2f}%\")\n"
      ]
    },
    {
      "cell_type": "markdown",
      "metadata": {},
      "source": [
        "## Model Saving\n",
        "\n",
        "Save the trained model to local storage and Google Drive.\n"
      ]
    },
    {
      "cell_type": "code",
      "execution_count": null,
      "metadata": {},
      "outputs": [],
      "source": [
        "# Save final model\n",
        "final_model_path = f\"{Config.SAVE_MODEL_PATH}/final_model.pth\"\n",
        "save_model(model, final_model_path, epoch=NUM_EPOCHS, loss=test_loss)\n",
        "\n",
        "# Save to Google Drive if mounted\n",
        "if Config.MOUNT_DRIVE:\n",
        "    drive_model_path = f\"{Config.DRIVE_MODEL_PATH}/final_model.pth\"\n",
        "    save_model(model, drive_model_path, epoch=NUM_EPOCHS, loss=test_loss)\n",
        "    print(f\"Model also saved to Google Drive: {drive_model_path}\")\n",
        "\n",
        "print(\"Model saving completed!\")\n"
      ]
    },
    {
      "cell_type": "markdown",
      "metadata": {},
      "source": [
        "## Multi-Dataset Experiments\n",
        "\n",
        "You can easily switch between different datasets for experiments. Each dataset has optimized hyperparameters.\n"
      ]
    },
    {
      "cell_type": "code",
      "execution_count": null,
      "metadata": {},
      "outputs": [],
      "source": [
        "# Multi-dataset experiment examples\n",
        "# Uncomment the dataset you want to experiment with\n",
        "\n",
        "# Example 1: ImageNette (fastest, 10 classes)\n",
        "# DATASET_NAME = \"imagenette\"\n",
        "# Config.update_for_dataset(DATASET_NAME)\n",
        "\n",
        "# Example 2: Tiny ImageNet (medium complexity, 200 classes)\n",
        "# DATASET_NAME = \"tiny_imagenet\"\n",
        "# Config.update_for_dataset(DATASET_NAME)\n",
        "\n",
        "# Example 3: ImageNet Mini (1000 classes subset)\n",
        "# DATASET_NAME = \"imagenet_mini\"\n",
        "# Config.update_for_dataset(DATASET_NAME)\n",
        "\n",
        "# Example 4: Full ImageNet (1000 classes, full dataset)\n",
        "# DATASET_NAME = \"imagenet\"\n",
        "# Config.update_for_dataset(DATASET_NAME)\n",
        "\n",
        "print(\"To experiment with different datasets:\")\n",
        "print(\"1. Uncomment the dataset you want to use\")\n",
        "print(\"2. Run this cell to update configuration\")\n",
        "print(\"3. Continue with the rest of the notebook\")\n",
        "print(\"\\nDataset comparison:\")\n",
        "print(\"- ImageNette: ~13k images, 10 classes, ~30 epochs\")\n",
        "print(\"- Tiny ImageNet: ~100k images, 200 classes, ~50 epochs\")\n",
        "print(\"- ImageNet Mini: ~100k images, 1000 classes, ~50 epochs\")\n",
        "print(\"- Full ImageNet: ~1.2M images, 1000 classes, ~90 epochs\")\n"
      ]
    },
    {
      "cell_type": "code",
      "execution_count": null,
      "metadata": {
        "id": "cOSlh9n4c-hH"
      },
      "outputs": [],
      "source": []
    },
    {
      "cell_type": "markdown",
      "metadata": {
        "id": "u-GYmfW8dGpQ"
      },
      "source": []
    },
    {
      "cell_type": "markdown",
      "metadata": {
        "id": "XC8UX7LDdHa0"
      },
      "source": [
        "\n",
        "\n",
        "# Tiny ImageNet with Resnet50"
      ]
    },
    {
      "cell_type": "markdown",
      "metadata": {
        "id": "7XzvJLus2WJ2"
      },
      "source": []
    },
    {
      "cell_type": "code",
      "execution_count": null,
      "metadata": {
        "id": "UxaYbdi2dLBO"
      },
      "outputs": [],
      "source": [
        "from __future__ import print_function\n",
        "import torch\n",
        "import torch.nn as nn\n",
        "import torch.nn.functional as F\n",
        "import torch.optim as optim\n",
        "from torchvision import datasets, transforms\n",
        "from matplotlib import pyplot as plt\n",
        "import albumentations as A\n",
        "from albumentations.pytorch import ToTensorV2\n",
        "import numpy as np"
      ]
    },
    {
      "cell_type": "markdown",
      "metadata": {
        "id": "g4fYw485T0IV"
      },
      "source": [
        "**Compute Mean and Standard Deviation for Normalization of data**. Commented as it is needed only once"
      ]
    },
    {
      "cell_type": "code",
      "execution_count": null,
      "metadata": {
        "id": "-A43tRpdTzmU"
      },
      "outputs": [],
      "source": []
    },
    {
      "cell_type": "code",
      "execution_count": null,
      "metadata": {
        "id": "Uei6QCR0TD6V"
      },
      "outputs": [],
      "source": [
        "# import torch\n",
        "# from torchvision import datasets, transforms\n",
        "# from torch.utils.data import DataLoader\n",
        "# from tqdm import tqdm\n",
        "\n",
        "# def get_mean_and_std(dataloader):\n",
        "#     \"\"\"\n",
        "#     Calculate the mean and standard deviation of a dataset.\n",
        "\n",
        "#     Args:\n",
        "#         dataloader (DataLoader): The DataLoader for the dataset.\n",
        "\n",
        "#     Returns:\n",
        "#         tuple: The mean and standard deviation tensors for each channel.\n",
        "#     \"\"\"\n",
        "#     channels_sum, channels_squared_sum, num_batches = 0, 0, 0\n",
        "#     for data, _ in tqdm(dataloader, desc=\"Calculating mean and std\"):\n",
        "#         # Mean over batch, height, and width, but not over the channels\n",
        "#         channels_sum += torch.mean(data, dim=[0, 2, 3])\n",
        "#         channels_squared_sum += torch.mean(data**2, dim=[0, 2, 3])\n",
        "#         num_batches += 1\n",
        "\n",
        "#     mean = channels_sum / num_batches\n",
        "#     # Std = sqrt(E[X^2] - (E[X])^2)\n",
        "#     std = (channels_squared_sum / num_batches - mean ** 2) ** 0.5\n",
        "#     return mean, std\n",
        "\n",
        "# # 1. Load the dataset without normalization (only convert to tensor)\n",
        "# # This will automatically download the dataset if it's not present\n",
        "# transform = transforms.Compose([transforms.ToTensor()])\n",
        "# train_dataset = datasets.CIFAR100(root='./data', train=True, download=True, transform=transform)\n",
        "\n",
        "# # 2. Create a DataLoader\n",
        "# train_loader = DataLoader(train_dataset, batch_size=128, shuffle=False)\n",
        "\n",
        "# # 3. Get the mean and standard deviation\n",
        "# mean, std = get_mean_and_std(train_loader)\n",
        "\n",
        "# print('Calculated Mean:', mean)\n",
        "# print('Calculated Standard Deviation:', std)\n",
        "\n",
        "# 100%|██████████| 169M/169M [00:06<00:00, 27.9MB/s]\n",
        "# Calculating mean and std: 100%|██████████| 391/391 [00:07<00:00, 50.50it/s]\n",
        "# Calculated Mean: tensor([0.5070, 0.4865, 0.4409])\n",
        "# Calculated Standard Deviation: tensor([0.2673, 0.2564, 0.2761])"
      ]
    },
    {
      "cell_type": "code",
      "execution_count": null,
      "metadata": {
        "colab": {
          "base_uri": "https://localhost:8080/"
        },
        "id": "RLvCZKLp7lh2",
        "outputId": "afa11430-7e37-4937-f3f9-93b54c6812d7"
      },
      "outputs": [
        {
          "name": "stderr",
          "output_type": "stream",
          "text": [
            "/tmp/ipython-input-1334562076.py:12: UserWarning: Argument(s) 'value' are not valid for transform PadIfNeeded\n",
            "  A.PadIfNeeded(min_height=40, min_width=40, border_mode=0, value=0, p=1.0),  # Pad first\n",
            "/tmp/ipython-input-1334562076.py:17: UserWarning: Argument(s) 'max_holes, max_height, max_width, min_height, min_width, fill_value' are not valid for transform CoarseDropout\n",
            "  A.CoarseDropout(\n",
            "/tmp/ipython-input-1334562076.py:26: UserWarning: Argument(s) 'var_limit' are not valid for transform GaussNoise\n",
            "  A.GaussNoise(var_limit=(10.0, 50.0), p=0.25),\n"
          ]
        }
      ],
      "source": [
        "# Train Phase transformations\n",
        "# Define your Albumentations pipeline\n",
        "import albumentations as A\n",
        "from albumentations.pytorch import ToTensorV2\n",
        "import numpy as np\n",
        "\n",
        "CIFAR_MEAN = (0.5070, 0.4865, 0.4409)\n",
        "CIFAR_STD  = (0.2673, 0.2564, 0.2761)\n",
        "\n",
        "\n",
        "train_alb = A.Compose([\n",
        "    A.PadIfNeeded(min_height=40, min_width=40, border_mode=0, value=0, p=1.0),  # Pad first\n",
        "    A.RandomCrop(32, 32, p=1.0),  # Then crop\n",
        "    A.HorizontalFlip(p=0.5),\n",
        "    # A.ShiftScaleRotate(shift_limit=0.1, scale_limit=0.15, rotate_limit=15, p=0.5),\n",
        "    A.OneOf([\n",
        "        A.CoarseDropout(\n",
        "            max_holes=1,\n",
        "            max_height=16,\n",
        "            max_width=16,\n",
        "            min_height=8,\n",
        "            min_width=8,\n",
        "            fill_value=tuple([int(x * 255) for x in [0.5071, 0.4867, 0.4408]]),\n",
        "            p=0.75\n",
        "        ),\n",
        "        A.GaussNoise(var_limit=(10.0, 50.0), p=0.25),\n",
        "    ], p=0.5),\n",
        "    A.Normalize((0.5071, 0.4867, 0.4408), (0.2675, 0.2565, 0.2761)),\n",
        "    ToTensorV2(),\n",
        "])\n",
        "\n",
        "# test: only normalize + tensor\n",
        "test_alb = A.Compose([\n",
        "    A.Normalize(mean=CIFAR_MEAN, std=CIFAR_STD),\n",
        "    ToTensorV2(),\n",
        "])\n",
        "\n",
        "# wrapper functions for torchvision CIFAR100 dataset\n",
        "def alb_train_transform(img):\n",
        "    if not isinstance(img, np.ndarray):\n",
        "        img = np.array(img)\n",
        "    return train_alb(image=img)[\"image\"]\n",
        "\n",
        "def alb_test_transform(img):\n",
        "    if not isinstance(img, np.ndarray):\n",
        "        img = np.array(img)\n",
        "    return test_alb(image=img)[\"image\"]\n",
        "\n"
      ]
    },
    {
      "cell_type": "code",
      "execution_count": null,
      "metadata": {
        "id": "sIxAwWL176Bl"
      },
      "outputs": [],
      "source": []
    },
    {
      "cell_type": "code",
      "execution_count": null,
      "metadata": {
        "colab": {
          "base_uri": "https://localhost:8080/"
        },
        "id": "TRawLqCH7p0I",
        "outputId": "327225fd-c11e-4225-c975-550ae4bc9a25"
      },
      "outputs": [
        {
          "name": "stderr",
          "output_type": "stream",
          "text": [
            "100%|██████████| 169M/169M [00:04<00:00, 39.9MB/s]\n"
          ]
        }
      ],
      "source": [
        "train = datasets.CIFAR100('./data', train=True, download=True, transform=alb_train_transform)\n",
        "test = datasets.CIFAR100('./data', train=False, download=True, transform=alb_test_transform)"
      ]
    },
    {
      "cell_type": "code",
      "execution_count": null,
      "metadata": {
        "id": "iK8DvS4FSnSa"
      },
      "outputs": [],
      "source": []
    },
    {
      "cell_type": "code",
      "execution_count": null,
      "metadata": {
        "colab": {
          "base_uri": "https://localhost:8080/"
        },
        "id": "H8PoAAuI7vNO",
        "outputId": "0d504402-c48c-41fa-8e05-6a2070ff18d5"
      },
      "outputs": [
        {
          "name": "stdout",
          "output_type": "stream",
          "text": [
            "CUDA Available? True\n"
          ]
        }
      ],
      "source": [
        "SEED = 1\n",
        "\n",
        "# CUDA?\n",
        "cuda = torch.cuda.is_available()\n",
        "print(\"CUDA Available?\", cuda)\n",
        "\n",
        "# For reproducibility\n",
        "torch.manual_seed(SEED)\n",
        "\n",
        "if cuda:\n",
        "    torch.cuda.manual_seed(SEED)\n",
        "\n",
        "# dataloader arguments - something you'll fetch these from cmdprmt\n",
        "dataloader_args = dict(shuffle=True, batch_size=256, num_workers=4, pin_memory=True) if cuda else dict(shuffle=True, batch_size=64)\n",
        "\n",
        "# train dataloader\n",
        "train_loader = torch.utils.data.DataLoader(train, **dataloader_args)\n",
        "\n",
        "# test dataloader\n",
        "test_loader = torch.utils.data.DataLoader(test, **dataloader_args)"
      ]
    },
    {
      "cell_type": "code",
      "execution_count": null,
      "metadata": {
        "colab": {
          "base_uri": "https://localhost:8080/",
          "height": 691
        },
        "id": "N8m3tkcbwa_c",
        "outputId": "10d6bde2-f385-4c70-948f-7918e58dea57"
      },
      "outputs": [
        {
          "name": "stderr",
          "output_type": "stream",
          "text": [
            "WARNING:matplotlib.image:Clipping input data to the valid range for imshow with RGB data ([0..1] for floats or [0..255] for integers). Got range [-1.8974658..2.0253532].\n",
            "WARNING:matplotlib.image:Clipping input data to the valid range for imshow with RGB data ([0..1] for floats or [0..255] for integers). Got range [-1.8974658..1.954336].\n",
            "WARNING:matplotlib.image:Clipping input data to the valid range for imshow with RGB data ([0..1] for floats or [0..255] for integers). Got range [-1.8974658..1.6080557].\n",
            "WARNING:matplotlib.image:Clipping input data to the valid range for imshow with RGB data ([0..1] for floats or [0..255] for integers). Got range [-1.8974658..2.0253532].\n",
            "WARNING:matplotlib.image:Clipping input data to the valid range for imshow with RGB data ([0..1] for floats or [0..255] for integers). Got range [-1.8974658..1.9685395].\n",
            "WARNING:matplotlib.image:Clipping input data to the valid range for imshow with RGB data ([0..1] for floats or [0..255] for integers). Got range [-1.8974658..1.2978864].\n",
            "WARNING:matplotlib.image:Clipping input data to the valid range for imshow with RGB data ([0..1] for floats or [0..255] for integers). Got range [-1.8974658..2.0253532].\n",
            "WARNING:matplotlib.image:Clipping input data to the valid range for imshow with RGB data ([0..1] for floats or [0..255] for integers). Got range [-1.8974658..1.6648167].\n",
            "WARNING:matplotlib.image:Clipping input data to the valid range for imshow with RGB data ([0..1] for floats or [0..255] for integers). Got range [-1.8974658..1.9685395].\n",
            "WARNING:matplotlib.image:Clipping input data to the valid range for imshow with RGB data ([0..1] for floats or [0..255] for integers). Got range [-1.8974658..1.8691155].\n",
            "WARNING:matplotlib.image:Clipping input data to the valid range for imshow with RGB data ([0..1] for floats or [0..255] for integers). Got range [-1.8974658..1.9685395].\n",
            "WARNING:matplotlib.image:Clipping input data to the valid range for imshow with RGB data ([0..1] for floats or [0..255] for integers). Got range [-1.8974658..1.1535935].\n"
          ]
        },
        {
          "data": {
            "image/png": "[encoded data removed]",
            "text/plain": [
              "<Figure size 640x480 with 12 Axes>"
            ]
          },
          "metadata": {},
          "output_type": "display_data"
        }
      ],
      "source": [
        "\n",
        "import matplotlib.pyplot as plt\n",
        "\n",
        "batch_data, batch_label = next(iter(train_loader))\n",
        "\n",
        "fig = plt.figure()\n",
        "\n",
        "for i in range(12):\n",
        "  plt.subplot(3,4,i+1)\n",
        "  plt.tight_layout()\n",
        "  # plt.imshow(batch_data[i].squeeze(0), cmap='gray')\n",
        "  plt.imshow(batch_data[i].permute(1,2,0))\n",
        "\n",
        "  plt.title(batch_label[i].item())\n",
        "  plt.xticks([])\n",
        "  plt.yticks([])"
      ]
    },
    {
      "cell_type": "code",
      "execution_count": null,
      "metadata": {
        "id": "gr757vIC7-Rt"
      },
      "outputs": [],
      "source": [
        "\n",
        "import torch\n",
        "import torch.nn as nn\n",
        "import torch.optim as optim\n",
        "from torch.utils.data import DataLoader\n",
        "import torchvision\n",
        "import torchvision.transforms as transforms\n",
        "from torchvision.datasets import CIFAR100\n",
        "from tqdm import tqdm\n",
        "\n",
        "\n",
        "# Bottleneck block (same as before)\n",
        "class Bottleneck(nn.Module):\n",
        " expansion = 4\n",
        "\n",
        " def __init__(self, in_channels, out_channels, stride=1, downsample=None):\n",
        "  super(Bottleneck, self).__init__()\n",
        "  self.conv1 = nn.Conv2d(in_channels, out_channels, kernel_size=1, bias=False)\n",
        "  self.bn1 = nn.BatchNorm2d(out_channels)\n",
        "\n",
        "  self.conv2 = nn.Conv2d(\n",
        "   out_channels, out_channels, kernel_size=3, stride=stride, padding=1, bias=False\n",
        "  )\n",
        "  self.bn2 = nn.BatchNorm2d(out_channels)\n",
        "\n",
        "  self.conv3 = nn.Conv2d(\n",
        "   out_channels, out_channels * self.expansion, kernel_size=1, bias=False\n",
        "  )\n",
        "  self.bn3 = nn.BatchNorm2d(out_channels * self.expansion)\n",
        "\n",
        "  self.relu = nn.ReLU(inplace=True)\n",
        "  self.downsample = downsample\n",
        "\n",
        " def forward(self, x):\n",
        "  identity = x\n",
        "\n",
        "  out = self.conv1(x)\n",
        "  out = self.bn1(out)\n",
        "  out = self.relu(out)\n",
        "\n",
        "  out = self.conv2(out)\n",
        "  out = self.bn2(out)\n",
        "  out = self.relu(out)\n",
        "\n",
        "  out = self.conv3(out)\n",
        "  out = self.bn3(out)\n",
        "\n",
        "  if self.downsample is not None:\n",
        "   identity = self.downsample(x)\n",
        "\n",
        "  out += identity\n",
        "  out = self.relu(out)\n",
        "  return out\n",
        "\n",
        "\n",
        "# ResNet tailored for CIFAR (no initial 7x7 stride-2 conv + no maxpool)\n",
        "class ResNetCIFAR(nn.Module):\n",
        " def __init__(self, block, layers, num_classes=100):\n",
        "  super(ResNetCIFAR, self).__init__()\n",
        "  self.in_channels = 64\n",
        "\n",
        "  # Adjusted first conv for CIFAR (3x3, stride=1)\n",
        "  self.conv1 = nn.Conv2d(3, 64, kernel_size=3, stride=1, padding=1, bias=False)\n",
        "  self.bn1 = nn.BatchNorm2d(64)\n",
        "  self.relu = nn.ReLU(inplace=True)\n",
        "\n",
        "  # NOTE: we do NOT use the 7x7 stride-2 conv or the 3x3 maxpool used for ImageNet\n",
        "  # Stage layers\n",
        "  self.layer1 = self._make_layer(block, 64, layers[0], stride=1)\n",
        "  self.layer2 = self._make_layer(block, 128, layers[1], stride=2)\n",
        "  self.layer3 = self._make_layer(block, 256, layers[2], stride=2)\n",
        "  self.layer4 = self._make_layer(block, 512, layers[3], stride=2)\n",
        "\n",
        "  self.avgpool = nn.AdaptiveAvgPool2d((1, 1))\n",
        "  self.fc = nn.Linear(512 * block.expansion, num_classes)\n",
        "\n",
        "  # Weight initialization\n",
        "  for m in self.modules():\n",
        "   if isinstance(m, nn.Conv2d):\n",
        "    nn.init.kaiming_normal_(m.weight, mode=\"fan_out\", nonlinearity=\"relu\")\n",
        "   elif isinstance(m, nn.BatchNorm2d):\n",
        "    nn.init.constant_(m.weight, 1)\n",
        "    nn.init.constant_(m.bias, 0)\n",
        "\n",
        " def _make_layer(self, block, out_channels, blocks, stride=1):\n",
        "  downsample = None\n",
        "  if stride != 1 or self.in_channels != out_channels * block.expansion:\n",
        "   downsample = nn.Sequential(\n",
        "    nn.Conv2d(\n",
        "     self.in_channels,\n",
        "     out_channels * block.expansion,\n",
        "     kernel_size=1,\n",
        "     stride=stride,\n",
        "     bias=False,\n",
        "    ),\n",
        "    nn.BatchNorm2d(out_channels * block.expansion),\n",
        "   )\n",
        "\n",
        "  layers = []\n",
        "  layers.append(block(self.in_channels, out_channels, stride, downsample))\n",
        "  self.in_channels = out_channels * block.expansion\n",
        "  for _ in range(1, blocks):\n",
        "   layers.append(block(self.in_channels, out_channels))\n",
        "\n",
        "  return nn.Sequential(*layers)\n",
        "\n",
        " def forward(self, x):\n",
        "  x = self.conv1(x)\n",
        "  x = self.bn1(x)\n",
        "  x = self.relu(x)\n",
        "  # no maxpool\n",
        "\n",
        "  x = self.layer1(x)\n",
        "  x = self.layer2(x)\n",
        "  x = self.layer3(x)\n",
        "  x = self.layer4(x)\n",
        "\n",
        "  x = self.avgpool(x)\n",
        "  x = torch.flatten(x, 1)\n",
        "  x = self.fc(x)\n",
        "  return x\n",
        "\n",
        "\n",
        "def resnet50_cifar(num_classes=100):\n",
        " return ResNetCIFAR(Bottleneck, [3, 4, 6, 3], num_classes=num_classes)"
      ]
    },
    {
      "cell_type": "code",
      "execution_count": null,
      "metadata": {
        "colab": {
          "base_uri": "https://localhost:8080/"
        },
        "id": "Pe9JSzWI8B_v",
        "outputId": "8def3182-773b-4677-f1eb-e2180a09b981"
      },
      "outputs": [
        {
          "name": "stdout",
          "output_type": "stream",
          "text": [
            "Requirement already satisfied: torchsummary in /usr/local/lib/python3.12/dist-packages (1.5.1)\n",
            "cuda\n",
            "----------------------------------------------------------------\n",
            "        Layer (type)               Output Shape         Param #\n",
            "================================================================\n",
            "            Conv2d-1           [-1, 64, 32, 32]           1,728\n",
            "       BatchNorm2d-2           [-1, 64, 32, 32]             128\n",
            "              ReLU-3           [-1, 64, 32, 32]               0\n",
            "            Conv2d-4           [-1, 64, 32, 32]           4,096\n",
            "       BatchNorm2d-5           [-1, 64, 32, 32]             128\n",
            "              ReLU-6           [-1, 64, 32, 32]               0\n",
            "            Conv2d-7           [-1, 64, 32, 32]          36,864\n",
            "       BatchNorm2d-8           [-1, 64, 32, 32]             128\n",
            "              ReLU-9           [-1, 64, 32, 32]               0\n",
            "           Conv2d-10          [-1, 256, 32, 32]          16,384\n",
            "      BatchNorm2d-11          [-1, 256, 32, 32]             512\n",
            "           Conv2d-12          [-1, 256, 32, 32]          16,384\n",
            "      BatchNorm2d-13          [-1, 256, 32, 32]             512\n",
            "             ReLU-14          [-1, 256, 32, 32]               0\n",
            "       Bottleneck-15          [-1, 256, 32, 32]               0\n",
            "           Conv2d-16           [-1, 64, 32, 32]          16,384\n",
            "      BatchNorm2d-17           [-1, 64, 32, 32]             128\n",
            "             ReLU-18           [-1, 64, 32, 32]               0\n",
            "           Conv2d-19           [-1, 64, 32, 32]          36,864\n",
            "      BatchNorm2d-20           [-1, 64, 32, 32]             128\n",
            "             ReLU-21           [-1, 64, 32, 32]               0\n",
            "           Conv2d-22          [-1, 256, 32, 32]          16,384\n",
            "      BatchNorm2d-23          [-1, 256, 32, 32]             512\n",
            "             ReLU-24          [-1, 256, 32, 32]               0\n",
            "       Bottleneck-25          [-1, 256, 32, 32]               0\n",
            "           Conv2d-26           [-1, 64, 32, 32]          16,384\n",
            "      BatchNorm2d-27           [-1, 64, 32, 32]             128\n",
            "             ReLU-28           [-1, 64, 32, 32]               0\n",
            "           Conv2d-29           [-1, 64, 32, 32]          36,864\n",
            "      BatchNorm2d-30           [-1, 64, 32, 32]             128\n",
            "             ReLU-31           [-1, 64, 32, 32]               0\n",
            "           Conv2d-32          [-1, 256, 32, 32]          16,384\n",
            "      BatchNorm2d-33          [-1, 256, 32, 32]             512\n",
            "             ReLU-34          [-1, 256, 32, 32]               0\n",
            "       Bottleneck-35          [-1, 256, 32, 32]               0\n",
            "           Conv2d-36          [-1, 128, 32, 32]          32,768\n",
            "      BatchNorm2d-37          [-1, 128, 32, 32]             256\n",
            "             ReLU-38          [-1, 128, 32, 32]               0\n",
            "           Conv2d-39          [-1, 128, 16, 16]         147,456\n",
            "      BatchNorm2d-40          [-1, 128, 16, 16]             256\n",
            "             ReLU-41          [-1, 128, 16, 16]               0\n",
            "           Conv2d-42          [-1, 512, 16, 16]          65,536\n",
            "      BatchNorm2d-43          [-1, 512, 16, 16]           1,024\n",
            "           Conv2d-44          [-1, 512, 16, 16]         131,072\n",
            "      BatchNorm2d-45          [-1, 512, 16, 16]           1,024\n",
            "             ReLU-46          [-1, 512, 16, 16]               0\n",
            "       Bottleneck-47          [-1, 512, 16, 16]               0\n",
            "           Conv2d-48          [-1, 128, 16, 16]          65,536\n",
            "      BatchNorm2d-49          [-1, 128, 16, 16]             256\n",
            "             ReLU-50          [-1, 128, 16, 16]               0\n",
            "           Conv2d-51          [-1, 128, 16, 16]         147,456\n",
            "      BatchNorm2d-52          [-1, 128, 16, 16]             256\n",
            "             ReLU-53          [-1, 128, 16, 16]               0\n",
            "           Conv2d-54          [-1, 512, 16, 16]          65,536\n",
            "      BatchNorm2d-55          [-1, 512, 16, 16]           1,024\n",
            "             ReLU-56          [-1, 512, 16, 16]               0\n",
            "       Bottleneck-57          [-1, 512, 16, 16]               0\n",
            "           Conv2d-58          [-1, 128, 16, 16]          65,536\n",
            "      BatchNorm2d-59          [-1, 128, 16, 16]             256\n",
            "             ReLU-60          [-1, 128, 16, 16]               0\n",
            "           Conv2d-61          [-1, 128, 16, 16]         147,456\n",
            "      BatchNorm2d-62          [-1, 128, 16, 16]             256\n",
            "             ReLU-63          [-1, 128, 16, 16]               0\n",
            "           Conv2d-64          [-1, 512, 16, 16]          65,536\n",
            "      BatchNorm2d-65          [-1, 512, 16, 16]           1,024\n",
            "             ReLU-66          [-1, 512, 16, 16]               0\n",
            "       Bottleneck-67          [-1, 512, 16, 16]               0\n",
            "           Conv2d-68          [-1, 128, 16, 16]          65,536\n",
            "      BatchNorm2d-69          [-1, 128, 16, 16]             256\n",
            "             ReLU-70          [-1, 128, 16, 16]               0\n",
            "           Conv2d-71          [-1, 128, 16, 16]         147,456\n",
            "      BatchNorm2d-72          [-1, 128, 16, 16]             256\n",
            "             ReLU-73          [-1, 128, 16, 16]               0\n",
            "           Conv2d-74          [-1, 512, 16, 16]          65,536\n",
            "      BatchNorm2d-75          [-1, 512, 16, 16]           1,024\n",
            "             ReLU-76          [-1, 512, 16, 16]               0\n",
            "       Bottleneck-77          [-1, 512, 16, 16]               0\n",
            "           Conv2d-78          [-1, 256, 16, 16]         131,072\n",
            "      BatchNorm2d-79          [-1, 256, 16, 16]             512\n",
            "             ReLU-80          [-1, 256, 16, 16]               0\n",
            "           Conv2d-81            [-1, 256, 8, 8]         589,824\n",
            "      BatchNorm2d-82            [-1, 256, 8, 8]             512\n",
            "             ReLU-83            [-1, 256, 8, 8]               0\n",
            "           Conv2d-84           [-1, 1024, 8, 8]         262,144\n",
            "      BatchNorm2d-85           [-1, 1024, 8, 8]           2,048\n",
            "           Conv2d-86           [-1, 1024, 8, 8]         524,288\n",
            "      BatchNorm2d-87           [-1, 1024, 8, 8]           2,048\n",
            "             ReLU-88           [-1, 1024, 8, 8]               0\n",
            "       Bottleneck-89           [-1, 1024, 8, 8]               0\n",
            "           Conv2d-90            [-1, 256, 8, 8]         262,144\n",
            "      BatchNorm2d-91            [-1, 256, 8, 8]             512\n",
            "             ReLU-92            [-1, 256, 8, 8]               0\n",
            "           Conv2d-93            [-1, 256, 8, 8]         589,824\n",
            "      BatchNorm2d-94            [-1, 256, 8, 8]             512\n",
            "             ReLU-95            [-1, 256, 8, 8]               0\n",
            "           Conv2d-96           [-1, 1024, 8, 8]         262,144\n",
            "      BatchNorm2d-97           [-1, 1024, 8, 8]           2,048\n",
            "             ReLU-98           [-1, 1024, 8, 8]               0\n",
            "       Bottleneck-99           [-1, 1024, 8, 8]               0\n",
            "          Conv2d-100            [-1, 256, 8, 8]         262,144\n",
            "     BatchNorm2d-101            [-1, 256, 8, 8]             512\n",
            "            ReLU-102            [-1, 256, 8, 8]               0\n",
            "          Conv2d-103            [-1, 256, 8, 8]         589,824\n",
            "     BatchNorm2d-104            [-1, 256, 8, 8]             512\n",
            "            ReLU-105            [-1, 256, 8, 8]               0\n",
            "          Conv2d-106           [-1, 1024, 8, 8]         262,144\n",
            "     BatchNorm2d-107           [-1, 1024, 8, 8]           2,048\n",
            "            ReLU-108           [-1, 1024, 8, 8]               0\n",
            "      Bottleneck-109           [-1, 1024, 8, 8]               0\n",
            "          Conv2d-110            [-1, 256, 8, 8]         262,144\n",
            "     BatchNorm2d-111            [-1, 256, 8, 8]             512\n",
            "            ReLU-112            [-1, 256, 8, 8]               0\n",
            "          Conv2d-113            [-1, 256, 8, 8]         589,824\n",
            "     BatchNorm2d-114            [-1, 256, 8, 8]             512\n",
            "            ReLU-115            [-1, 256, 8, 8]               0\n",
            "          Conv2d-116           [-1, 1024, 8, 8]         262,144\n",
            "     BatchNorm2d-117           [-1, 1024, 8, 8]           2,048\n",
            "            ReLU-118           [-1, 1024, 8, 8]               0\n",
            "      Bottleneck-119           [-1, 1024, 8, 8]               0\n",
            "          Conv2d-120            [-1, 256, 8, 8]         262,144\n",
            "     BatchNorm2d-121            [-1, 256, 8, 8]             512\n",
            "            ReLU-122            [-1, 256, 8, 8]               0\n",
            "          Conv2d-123            [-1, 256, 8, 8]         589,824\n",
            "     BatchNorm2d-124            [-1, 256, 8, 8]             512\n",
            "            ReLU-125            [-1, 256, 8, 8]               0\n",
            "          Conv2d-126           [-1, 1024, 8, 8]         262,144\n",
            "     BatchNorm2d-127           [-1, 1024, 8, 8]           2,048\n",
            "            ReLU-128           [-1, 1024, 8, 8]               0\n",
            "      Bottleneck-129           [-1, 1024, 8, 8]               0\n",
            "          Conv2d-130            [-1, 256, 8, 8]         262,144\n",
            "     BatchNorm2d-131            [-1, 256, 8, 8]             512\n",
            "            ReLU-132            [-1, 256, 8, 8]               0\n",
            "          Conv2d-133            [-1, 256, 8, 8]         589,824\n",
            "     BatchNorm2d-134            [-1, 256, 8, 8]             512\n",
            "            ReLU-135            [-1, 256, 8, 8]               0\n",
            "          Conv2d-136           [-1, 1024, 8, 8]         262,144\n",
            "     BatchNorm2d-137           [-1, 1024, 8, 8]           2,048\n",
            "            ReLU-138           [-1, 1024, 8, 8]               0\n",
            "      Bottleneck-139           [-1, 1024, 8, 8]               0\n",
            "          Conv2d-140            [-1, 512, 8, 8]         524,288\n",
            "     BatchNorm2d-141            [-1, 512, 8, 8]           1,024\n",
            "            ReLU-142            [-1, 512, 8, 8]               0\n",
            "          Conv2d-143            [-1, 512, 4, 4]       2,359,296\n",
            "     BatchNorm2d-144            [-1, 512, 4, 4]           1,024\n",
            "            ReLU-145            [-1, 512, 4, 4]               0\n",
            "          Conv2d-146           [-1, 2048, 4, 4]       1,048,576\n",
            "     BatchNorm2d-147           [-1, 2048, 4, 4]           4,096\n",
            "          Conv2d-148           [-1, 2048, 4, 4]       2,097,152\n",
            "     BatchNorm2d-149           [-1, 2048, 4, 4]           4,096\n",
            "            ReLU-150           [-1, 2048, 4, 4]               0\n",
            "      Bottleneck-151           [-1, 2048, 4, 4]               0\n",
            "          Conv2d-152            [-1, 512, 4, 4]       1,048,576\n",
            "     BatchNorm2d-153            [-1, 512, 4, 4]           1,024\n",
            "            ReLU-154            [-1, 512, 4, 4]               0\n",
            "          Conv2d-155            [-1, 512, 4, 4]       2,359,296\n",
            "     BatchNorm2d-156            [-1, 512, 4, 4]           1,024\n",
            "            ReLU-157            [-1, 512, 4, 4]               0\n",
            "          Conv2d-158           [-1, 2048, 4, 4]       1,048,576\n",
            "     BatchNorm2d-159           [-1, 2048, 4, 4]           4,096\n",
            "            ReLU-160           [-1, 2048, 4, 4]               0\n",
            "      Bottleneck-161           [-1, 2048, 4, 4]               0\n",
            "          Conv2d-162            [-1, 512, 4, 4]       1,048,576\n",
            "     BatchNorm2d-163            [-1, 512, 4, 4]           1,024\n",
            "            ReLU-164            [-1, 512, 4, 4]               0\n",
            "          Conv2d-165            [-1, 512, 4, 4]       2,359,296\n",
            "     BatchNorm2d-166            [-1, 512, 4, 4]           1,024\n",
            "            ReLU-167            [-1, 512, 4, 4]               0\n",
            "          Conv2d-168           [-1, 2048, 4, 4]       1,048,576\n",
            "     BatchNorm2d-169           [-1, 2048, 4, 4]           4,096\n",
            "            ReLU-170           [-1, 2048, 4, 4]               0\n",
            "      Bottleneck-171           [-1, 2048, 4, 4]               0\n",
            "AdaptiveAvgPool2d-172           [-1, 2048, 1, 1]               0\n",
            "          Linear-173                  [-1, 100]         204,900\n",
            "================================================================\n",
            "Total params: 23,705,252\n",
            "Trainable params: 23,705,252\n",
            "Non-trainable params: 0\n",
            "----------------------------------------------------------------\n",
            "Input size (MB): 0.01\n",
            "Forward/backward pass size (MB): 88.58\n",
            "Params size (MB): 90.43\n",
            "Estimated Total Size (MB): 179.02\n",
            "----------------------------------------------------------------\n"
          ]
        }
      ],
      "source": [
        "!pip install torchsummary\n",
        "from torchsummary import summary\n",
        "use_cuda = torch.cuda.is_available()\n",
        "device = torch.device(\"cuda\" if use_cuda else \"cpu\")\n",
        "print(device)\n",
        "model = resnet50_cifar().to(device)\n",
        "summary(model, input_size=(3, 32, 32))"
      ]
    },
    {
      "cell_type": "code",
      "execution_count": null,
      "metadata": {
        "id": "Om5ZmGWrph3g"
      },
      "outputs": [],
      "source": [
        "import torch\n",
        "\n",
        "def topk_accuracy(output, target, k=5):\n",
        "    \"\"\"\n",
        "    Calculates the top-k accuracy for a given output and target.\n",
        "\n",
        "    Args:\n",
        "        output (torch.Tensor): The model's raw output logits, typically from the last layer.\n",
        "        target (torch.Tensor): The ground-truth labels.\n",
        "        k (int): The number of top predictions to consider.\n",
        "\n",
        "    Returns:\n",
        "        float: The top-k accuracy.\n",
        "    \"\"\"\n",
        "    with torch.no_grad():\n",
        "        # Get the top k predictions\n",
        "        _, topk_preds = output.topk(k, dim=1, largest=True, sorted=True)\n",
        "\n",
        "        # Reshape the target tensor for comparison\n",
        "        target_reshaped = target.view(1, -1).expand_as(topk_preds)\n",
        "\n",
        "        # Check if any of the top k predictions match the true label\n",
        "        correct = (topk_preds == target_reshaped)\n",
        "\n",
        "        # Calculate the number of correct predictions\n",
        "        correct_count = correct.any(dim=0).sum().item()\n",
        "\n",
        "        # Return the accuracy as a percentage\n",
        "        return (correct_count / target.size(0))\n"
      ]
    },
    {
      "cell_type": "code",
      "execution_count": null,
      "metadata": {
        "id": "imHnmYf6RccL"
      },
      "outputs": [],
      "source": [
        "\n",
        "# Learnings:\n",
        "# Weight decay was added in Adam for Regularization but it didnt help much and accuracy was stuck around 65\n",
        "# Switched to AdamW improved the accuracy.\n",
        "# Tried Cosine Annealing but it seems that 50 epcohs was not the right window\n",
        "#  Cosine Annealing uses a predefined curve so switched to ReduceLROnPlateau to make it adaptive.\n",
        "optimizer = optim.AdamW(model.parameters(), lr=0.001, weight_decay=1e-4)\n",
        "\n",
        "scheduler = optim.lr_scheduler.ReduceLROnPlateau(\n",
        "    optimizer,\n",
        "    mode='min',        # minimize validation loss\n",
        "    factor=0.5,        # reduce LR by a factor of 0.75\n",
        "    patience=3,        # wait 3 epochs with no improvement\n",
        "    threshold=1e-3,    # minimum change to qualify as improvement\n",
        "    min_lr=1e-4,       # do not reduce below this LR\n",
        ")\n"
      ]
    },
    {
      "cell_type": "code",
      "execution_count": null,
      "metadata": {
        "id": "x-ia4Qeg8rOD"
      },
      "outputs": [],
      "source": [
        "from tqdm import tqdm\n",
        "import torch\n",
        "import torch.nn.functional as F\n",
        "\n",
        "train_losses = []\n",
        "test_losses = []\n",
        "train_acc = []\n",
        "test_acc = []\n",
        "test_top5_acc = [] # New list to store top-5 accuracy\n",
        "\n",
        "def train(model, device, train_loader, optimizer, epoch):\n",
        "  model.train()\n",
        "  pbar = tqdm(train_loader)\n",
        "  correct = 0\n",
        "  processed = 0\n",
        "  for batch_idx, (data, target) in enumerate(pbar):\n",
        "    # get samples\n",
        "    data, target = data.to(device), target.to(device)\n",
        "\n",
        "    # Init\n",
        "    optimizer.zero_grad()\n",
        "    # In PyTorch, we need to set the gradients to zero before starting to do backpropragation because PyTorch accumulates the gradients on subsequent backward passes.\n",
        "    # Because of this, when you start your training loop, ideally you should zero out the gradients so that you do the parameter update correctly.\n",
        "\n",
        "    # Predict\n",
        "    y_pred = model(data)\n",
        "\n",
        "    # Calculate loss\n",
        "    loss = F.cross_entropy(y_pred, target,label_smoothing=0.1)\n",
        "    train_losses.append(loss)\n",
        "\n",
        "    # Backpropagation\n",
        "    loss.backward()\n",
        "    optimizer.step()\n",
        "\n",
        "    # Update pbar-tqdm\n",
        "\n",
        "    pred = y_pred.argmax(dim=1, keepdim=True)  # get the index of the max log-probability\n",
        "    correct += pred.eq(target.view_as(pred)).sum().item()\n",
        "    processed += len(data)\n",
        "\n",
        "    pbar.set_description(desc= f'Loss={loss.item()} Batch_id={batch_idx} Accuracy={100*correct/processed:0.2f}')\n",
        "    train_acc.append(100*correct/processed)\n",
        "# Update the learning rate After each batch if doing OnecycleLR else after each epoch\n",
        "# scheduler.step() # Moved scheduler.step() to the training loop after test()\n",
        "\n",
        "\n",
        "def test(model, device, test_loader):\n",
        "    model.eval()\n",
        "    test_loss = 0\n",
        "    correct = 0\n",
        "    correct_top1 = 0\n",
        "    correct_top5 = 0\n",
        "    with torch.no_grad():\n",
        "        for data, target in test_loader:\n",
        "            data, target = data.to(device), target.to(device)\n",
        "            output = model(data)\n",
        "            test_loss += F.cross_entropy(output, target, reduction='sum').item()\n",
        "\n",
        "            # Top-1 accuracy calculation\n",
        "            pred_top1 = output.argmax(dim=1, keepdim=True)\n",
        "            correct_top1 += pred_top1.eq(target.view_as(pred_top1)).sum().item()\n",
        "\n",
        "            # Top-5 accuracy calculation\n",
        "            # correct_top5 += topk_accuracy(output, target, k=5)\n",
        "\n",
        "    test_loss /= len(test_loader.dataset)\n",
        "    test_losses.append(test_loss)\n",
        "\n",
        "    top1_acc = 100. * correct_top1 / len(test_loader.dataset)\n",
        "    # top5_acc = 100. * correct_top5 / len(test_loader.dataset)\n",
        "\n",
        "    print(f'\\nTest set: Average loss: {test_loss:.4f} ,Top-1 Accuracy: {correct_top1}/{len(test_loader.dataset)} ({top1_acc:.2f}%)%\\n')\n",
        "\n",
        "    test_acc.append(top1_acc)\n",
        "    # test_top5_acc.append(top5_acc)\n",
        "    return test_loss"
      ]
    },
    {
      "cell_type": "code",
      "execution_count": null,
      "metadata": {
        "id": "2hniVlkKY-Tx"
      },
      "outputs": [],
      "source": [
        "# !pip install torch-lr-finder\n"
      ]
    },
    {
      "cell_type": "code",
      "execution_count": null,
      "metadata": {
        "id": "KP6zxmOEaOvv"
      },
      "outputs": [],
      "source": [
        "# import torch\n",
        "# from torch import nn, optim\n",
        "# from torch_lr_finder import LRFinder\n",
        "# import matplotlib.pyplot as plt\n",
        "\n",
        "# # 3. Instantiate model, optimizer, and criterion\n",
        "# device = \"cuda\" if torch.cuda.is_available() else \"cpu\"\n",
        "# # Assuming 'model' is already defined and on the correct device\n",
        "# # e.g., model = resnet34_cifar().to(device)\n",
        "# optimizer = optim.Adam(model.parameters(), lr=1e-7)  # Start with a very small LR\n",
        "# criterion = nn.CrossEntropyLoss()\n",
        "\n",
        "# # 4. Run the LR finder\n",
        "# lr_finder = LRFinder(model, optimizer, criterion, device=device)\n",
        "# lr_finder.range_test(train_loader, end_lr=0.1, num_iter=300)\n",
        "# # 5. Plot the results\n",
        "# lr_finder.plot()\n",
        "\n",
        "# # 6. Reset the model and optimizer to their initial states\n",
        "# lr_finder.reset()\n",
        "# #>>>>>>>>4.32e-03 for batch size 128,\n",
        "# # LR: 9.05E-03 for batch size 256\n",
        "# ##Suggested LR: 7.88E-03 for  batch size 512\n"
      ]
    },
    {
      "cell_type": "code",
      "execution_count": null,
      "metadata": {
        "colab": {
          "base_uri": "https://localhost:8080/"
        },
        "id": "5vSFWk6-8vk2",
        "outputId": "08783226-0cf6-42d1-9940-380c4306e511"
      },
      "outputs": [
        {
          "name": "stdout",
          "output_type": "stream",
          "text": [
            "EPOCH: 1\n"
          ]
        },
        {
          "name": "stderr",
          "output_type": "stream",
          "text": [
            "Loss=3.869758129119873 Batch_id=195 Accuracy=7.47: 100%|██████████| 196/196 [01:33<00:00,  2.10it/s]\n"
          ]
        },
        {
          "name": "stdout",
          "output_type": "stream",
          "text": [
            "\n",
            "Test set: Average loss: 3.8226 ,Top-1 Accuracy: 1278/10000 (12.78%)%\n",
            "\n",
            "EPOCH: 2\n"
          ]
        },
        {
          "name": "stderr",
          "output_type": "stream",
          "text": [
            "Loss=3.635023832321167 Batch_id=195 Accuracy=16.71: 100%|██████████| 196/196 [01:33<00:00,  2.10it/s]\n"
          ]
        },
        {
          "name": "stdout",
          "output_type": "stream",
          "text": [
            "\n",
            "Test set: Average loss: 3.2060 ,Top-1 Accuracy: 2102/10000 (21.02%)%\n",
            "\n",
            "EPOCH: 3\n"
          ]
        },
        {
          "name": "stderr",
          "output_type": "stream",
          "text": [
            "Loss=3.32423996925354 Batch_id=195 Accuracy=24.83: 100%|██████████| 196/196 [01:33<00:00,  2.09it/s]\n"
          ]
        },
        {
          "name": "stdout",
          "output_type": "stream",
          "text": [
            "\n",
            "Test set: Average loss: 2.8436 ,Top-1 Accuracy: 2791/10000 (27.91%)%\n",
            "\n",
            "EPOCH: 4\n"
          ]
        },
        {
          "name": "stderr",
          "output_type": "stream",
          "text": [
            "Loss=2.894665479660034 Batch_id=195 Accuracy=32.11: 100%|██████████| 196/196 [01:33<00:00,  2.10it/s]\n"
          ]
        },
        {
          "name": "stdout",
          "output_type": "stream",
          "text": [
            "\n",
            "Test set: Average loss: 2.5371 ,Top-1 Accuracy: 3427/10000 (34.27%)%\n",
            "\n",
            "EPOCH: 5\n"
          ]
        },
        {
          "name": "stderr",
          "output_type": "stream",
          "text": [
            "Loss=2.6400256156921387 Batch_id=195 Accuracy=38.02: 100%|██████████| 196/196 [01:33<00:00,  2.09it/s]\n"
          ]
        },
        {
          "name": "stdout",
          "output_type": "stream",
          "text": [
            "\n",
            "Test set: Average loss: 2.3055 ,Top-1 Accuracy: 3994/10000 (39.94%)%\n",
            "\n",
            "EPOCH: 6\n"
          ]
        },
        {
          "name": "stderr",
          "output_type": "stream",
          "text": [
            "Loss=2.5170180797576904 Batch_id=195 Accuracy=43.46: 100%|██████████| 196/196 [01:33<00:00,  2.10it/s]\n"
          ]
        },
        {
          "name": "stdout",
          "output_type": "stream",
          "text": [
            "\n",
            "Test set: Average loss: 2.0368 ,Top-1 Accuracy: 4539/10000 (45.39%)%\n",
            "\n",
            "EPOCH: 7\n"
          ]
        },
        {
          "name": "stderr",
          "output_type": "stream",
          "text": [
            "Loss=2.4625425338745117 Batch_id=195 Accuracy=47.25: 100%|██████████| 196/196 [01:33<00:00,  2.10it/s]\n"
          ]
        },
        {
          "name": "stdout",
          "output_type": "stream",
          "text": [
            "\n",
            "Test set: Average loss: 1.9502 ,Top-1 Accuracy: 4757/10000 (47.57%)%\n",
            "\n",
            "EPOCH: 8\n"
          ]
        },
        {
          "name": "stderr",
          "output_type": "stream",
          "text": [
            "Loss=2.2403564453125 Batch_id=195 Accuracy=51.44: 100%|██████████| 196/196 [01:34<00:00,  2.08it/s]\n"
          ]
        },
        {
          "name": "stdout",
          "output_type": "stream",
          "text": [
            "\n",
            "Test set: Average loss: 4.8463 ,Top-1 Accuracy: 3889/10000 (38.89%)%\n",
            "\n",
            "EPOCH: 9\n"
          ]
        },
        {
          "name": "stderr",
          "output_type": "stream",
          "text": [
            "Loss=2.1723709106445312 Batch_id=195 Accuracy=54.00: 100%|██████████| 196/196 [01:33<00:00,  2.10it/s]\n"
          ]
        },
        {
          "name": "stdout",
          "output_type": "stream",
          "text": [
            "\n",
            "Test set: Average loss: 1.6968 ,Top-1 Accuracy: 5376/10000 (53.76%)%\n",
            "\n",
            "EPOCH: 10\n"
          ]
        },
        {
          "name": "stderr",
          "output_type": "stream",
          "text": [
            "Loss=2.1376733779907227 Batch_id=195 Accuracy=56.92: 100%|██████████| 196/196 [01:33<00:00,  2.09it/s]\n"
          ]
        },
        {
          "name": "stdout",
          "output_type": "stream",
          "text": [
            "\n",
            "Test set: Average loss: 1.6019 ,Top-1 Accuracy: 5649/10000 (56.49%)%\n",
            "\n",
            "EPOCH: 11\n"
          ]
        },
        {
          "name": "stderr",
          "output_type": "stream",
          "text": [
            "Loss=1.9623136520385742 Batch_id=195 Accuracy=60.00: 100%|██████████| 196/196 [01:34<00:00,  2.08it/s]\n"
          ]
        },
        {
          "name": "stdout",
          "output_type": "stream",
          "text": [
            "\n",
            "Test set: Average loss: 1.5650 ,Top-1 Accuracy: 5798/10000 (57.98%)%\n",
            "\n",
            "EPOCH: 12\n"
          ]
        },
        {
          "name": "stderr",
          "output_type": "stream",
          "text": [
            "Loss=1.9615793228149414 Batch_id=195 Accuracy=61.72: 100%|██████████| 196/196 [01:33<00:00,  2.09it/s]\n"
          ]
        },
        {
          "name": "stdout",
          "output_type": "stream",
          "text": [
            "\n",
            "Test set: Average loss: 1.4646 ,Top-1 Accuracy: 6009/10000 (60.09%)%\n",
            "\n",
            "EPOCH: 13\n"
          ]
        },
        {
          "name": "stderr",
          "output_type": "stream",
          "text": [
            "Loss=1.94589102268219 Batch_id=195 Accuracy=63.79: 100%|██████████| 196/196 [01:33<00:00,  2.09it/s]\n"
          ]
        },
        {
          "name": "stdout",
          "output_type": "stream",
          "text": [
            "\n",
            "Test set: Average loss: 1.5265 ,Top-1 Accuracy: 5949/10000 (59.49%)%\n",
            "\n",
            "EPOCH: 14\n"
          ]
        },
        {
          "name": "stderr",
          "output_type": "stream",
          "text": [
            "Loss=1.9459686279296875 Batch_id=195 Accuracy=64.67: 100%|██████████| 196/196 [01:33<00:00,  2.09it/s]\n"
          ]
        },
        {
          "name": "stdout",
          "output_type": "stream",
          "text": [
            "\n",
            "Test set: Average loss: 5.7199 ,Top-1 Accuracy: 4736/10000 (47.36%)%\n",
            "\n",
            "EPOCH: 15\n"
          ]
        },
        {
          "name": "stderr",
          "output_type": "stream",
          "text": [
            "Loss=1.9373314380645752 Batch_id=195 Accuracy=66.59: 100%|██████████| 196/196 [01:34<00:00,  2.07it/s]\n"
          ]
        },
        {
          "name": "stdout",
          "output_type": "stream",
          "text": [
            "\n",
            "Test set: Average loss: 1.4132 ,Top-1 Accuracy: 6220/10000 (62.20%)%\n",
            "\n",
            "EPOCH: 16\n"
          ]
        },
        {
          "name": "stderr",
          "output_type": "stream",
          "text": [
            "Loss=2.0476608276367188 Batch_id=195 Accuracy=68.57: 100%|██████████| 196/196 [01:33<00:00,  2.09it/s]\n"
          ]
        },
        {
          "name": "stdout",
          "output_type": "stream",
          "text": [
            "\n",
            "Test set: Average loss: 1.4181 ,Top-1 Accuracy: 6244/10000 (62.44%)%\n",
            "\n",
            "EPOCH: 17\n"
          ]
        },
        {
          "name": "stderr",
          "output_type": "stream",
          "text": [
            "Loss=1.688154935836792 Batch_id=195 Accuracy=70.23: 100%|██████████| 196/196 [01:33<00:00,  2.09it/s]\n"
          ]
        },
        {
          "name": "stdout",
          "output_type": "stream",
          "text": [
            "\n",
            "Test set: Average loss: 1.3082 ,Top-1 Accuracy: 6472/10000 (64.72%)%\n",
            "\n",
            "EPOCH: 18\n"
          ]
        },
        {
          "name": "stderr",
          "output_type": "stream",
          "text": [
            "Loss=1.510732650756836 Batch_id=195 Accuracy=71.43: 100%|██████████| 196/196 [01:33<00:00,  2.09it/s]\n"
          ]
        },
        {
          "name": "stdout",
          "output_type": "stream",
          "text": [
            "\n",
            "Test set: Average loss: 1.3150 ,Top-1 Accuracy: 6466/10000 (64.66%)%\n",
            "\n",
            "EPOCH: 19\n"
          ]
        },
        {
          "name": "stderr",
          "output_type": "stream",
          "text": [
            "Loss=1.6763197183609009 Batch_id=195 Accuracy=72.75: 100%|██████████| 196/196 [01:33<00:00,  2.09it/s]\n"
          ]
        },
        {
          "name": "stdout",
          "output_type": "stream",
          "text": [
            "\n",
            "Test set: Average loss: 1.2663 ,Top-1 Accuracy: 6512/10000 (65.12%)%\n",
            "\n",
            "EPOCH: 20\n"
          ]
        },
        {
          "name": "stderr",
          "output_type": "stream",
          "text": [
            "Loss=1.612204670906067 Batch_id=195 Accuracy=74.13: 100%|██████████| 196/196 [01:34<00:00,  2.07it/s]\n"
          ]
        },
        {
          "name": "stdout",
          "output_type": "stream",
          "text": [
            "\n",
            "Test set: Average loss: 1.2844 ,Top-1 Accuracy: 6514/10000 (65.14%)%\n",
            "\n",
            "EPOCH: 21\n"
          ]
        },
        {
          "name": "stderr",
          "output_type": "stream",
          "text": [
            "Loss=1.557685136795044 Batch_id=195 Accuracy=75.57: 100%|██████████| 196/196 [01:33<00:00,  2.09it/s]\n"
          ]
        },
        {
          "name": "stdout",
          "output_type": "stream",
          "text": [
            "\n",
            "Test set: Average loss: 1.4036 ,Top-1 Accuracy: 6414/10000 (64.14%)%\n",
            "\n",
            "EPOCH: 22\n"
          ]
        },
        {
          "name": "stderr",
          "output_type": "stream",
          "text": [
            "Loss=1.6112279891967773 Batch_id=195 Accuracy=74.40: 100%|██████████| 196/196 [01:33<00:00,  2.09it/s]\n"
          ]
        },
        {
          "name": "stdout",
          "output_type": "stream",
          "text": [
            "\n",
            "Test set: Average loss: 1.2777 ,Top-1 Accuracy: 6634/10000 (66.34%)%\n",
            "\n",
            "EPOCH: 23\n"
          ]
        },
        {
          "name": "stderr",
          "output_type": "stream",
          "text": [
            "Loss=1.600617527961731 Batch_id=195 Accuracy=76.41: 100%|██████████| 196/196 [01:33<00:00,  2.09it/s]\n"
          ]
        },
        {
          "name": "stdout",
          "output_type": "stream",
          "text": [
            "\n",
            "Test set: Average loss: 1.2556 ,Top-1 Accuracy: 6670/10000 (66.70%)%\n",
            "\n",
            "EPOCH: 24\n"
          ]
        },
        {
          "name": "stderr",
          "output_type": "stream",
          "text": [
            "Loss=1.4813865423202515 Batch_id=195 Accuracy=78.80: 100%|██████████| 196/196 [01:33<00:00,  2.09it/s]\n"
          ]
        },
        {
          "name": "stdout",
          "output_type": "stream",
          "text": [
            "\n",
            "Test set: Average loss: 1.2145 ,Top-1 Accuracy: 6749/10000 (67.49%)%\n",
            "\n",
            "EPOCH: 25\n"
          ]
        },
        {
          "name": "stderr",
          "output_type": "stream",
          "text": [
            "Loss=1.4409700632095337 Batch_id=195 Accuracy=80.15: 100%|██████████| 196/196 [01:33<00:00,  2.09it/s]\n"
          ]
        },
        {
          "name": "stdout",
          "output_type": "stream",
          "text": [
            "\n",
            "Test set: Average loss: 1.2638 ,Top-1 Accuracy: 6727/10000 (67.27%)%\n",
            "\n",
            "EPOCH: 26\n"
          ]
        },
        {
          "name": "stderr",
          "output_type": "stream",
          "text": [
            "Loss=1.3914510011672974 Batch_id=195 Accuracy=80.89: 100%|██████████| 196/196 [01:35<00:00,  2.05it/s]\n"
          ]
        },
        {
          "name": "stdout",
          "output_type": "stream",
          "text": [
            "\n",
            "Test set: Average loss: 1.1936 ,Top-1 Accuracy: 6885/10000 (68.85%)%\n",
            "\n",
            "EPOCH: 27\n"
          ]
        },
        {
          "name": "stderr",
          "output_type": "stream",
          "text": [
            "Loss=1.1919128894805908 Batch_id=195 Accuracy=81.84: 100%|██████████| 196/196 [01:34<00:00,  2.08it/s]\n"
          ]
        },
        {
          "name": "stdout",
          "output_type": "stream",
          "text": [
            "\n",
            "Test set: Average loss: 1.2262 ,Top-1 Accuracy: 6795/10000 (67.95%)%\n",
            "\n",
            "EPOCH: 28\n"
          ]
        },
        {
          "name": "stderr",
          "output_type": "stream",
          "text": [
            "Loss=1.3154962062835693 Batch_id=195 Accuracy=83.19: 100%|██████████| 196/196 [01:34<00:00,  2.08it/s]\n"
          ]
        },
        {
          "name": "stdout",
          "output_type": "stream",
          "text": [
            "\n",
            "Test set: Average loss: 1.2124 ,Top-1 Accuracy: 6913/10000 (69.13%)%\n",
            "\n",
            "EPOCH: 29\n"
          ]
        },
        {
          "name": "stderr",
          "output_type": "stream",
          "text": [
            "Loss=1.3670666217803955 Batch_id=195 Accuracy=83.84: 100%|██████████| 196/196 [01:34<00:00,  2.08it/s]\n"
          ]
        },
        {
          "name": "stdout",
          "output_type": "stream",
          "text": [
            "\n",
            "Test set: Average loss: 1.2626 ,Top-1 Accuracy: 6799/10000 (67.99%)%\n",
            "\n",
            "EPOCH: 30\n"
          ]
        },
        {
          "name": "stderr",
          "output_type": "stream",
          "text": [
            "Loss=1.3260791301727295 Batch_id=195 Accuracy=84.01: 100%|██████████| 196/196 [01:34<00:00,  2.08it/s]\n"
          ]
        },
        {
          "name": "stdout",
          "output_type": "stream",
          "text": [
            "\n",
            "Test set: Average loss: 1.2024 ,Top-1 Accuracy: 6922/10000 (69.22%)%\n",
            "\n",
            "EPOCH: 31\n"
          ]
        },
        {
          "name": "stderr",
          "output_type": "stream",
          "text": [
            "Loss=1.0704212188720703 Batch_id=195 Accuracy=88.74: 100%|██████████| 196/196 [01:34<00:00,  2.08it/s]\n"
          ]
        },
        {
          "name": "stdout",
          "output_type": "stream",
          "text": [
            "\n",
            "Test set: Average loss: 1.0906 ,Top-1 Accuracy: 7215/10000 (72.15%)%\n",
            "\n",
            "EPOCH: 32\n"
          ]
        },
        {
          "name": "stderr",
          "output_type": "stream",
          "text": [
            "Loss=1.0833816528320312 Batch_id=195 Accuracy=89.99: 100%|██████████| 196/196 [01:34<00:00,  2.08it/s]\n"
          ]
        },
        {
          "name": "stdout",
          "output_type": "stream",
          "text": [
            "\n",
            "Test set: Average loss: 1.0997 ,Top-1 Accuracy: 7252/10000 (72.52%)%\n",
            "\n",
            "EPOCH: 33\n"
          ]
        },
        {
          "name": "stderr",
          "output_type": "stream",
          "text": [
            "Loss=1.00822114944458 Batch_id=195 Accuracy=90.52: 100%|██████████| 196/196 [01:35<00:00,  2.05it/s]\n"
          ]
        },
        {
          "name": "stdout",
          "output_type": "stream",
          "text": [
            "\n",
            "Test set: Average loss: 1.1272 ,Top-1 Accuracy: 7217/10000 (72.17%)%\n",
            "\n",
            "EPOCH: 34\n"
          ]
        },
        {
          "name": "stderr",
          "output_type": "stream",
          "text": [
            "Loss=1.045372486114502 Batch_id=195 Accuracy=91.14: 100%|██████████| 196/196 [01:34<00:00,  2.08it/s]\n"
          ]
        },
        {
          "name": "stdout",
          "output_type": "stream",
          "text": [
            "\n",
            "Test set: Average loss: 1.1053 ,Top-1 Accuracy: 7295/10000 (72.95%)%\n",
            "\n",
            "EPOCH: 35\n"
          ]
        },
        {
          "name": "stderr",
          "output_type": "stream",
          "text": [
            "Loss=1.0840001106262207 Batch_id=195 Accuracy=91.27: 100%|██████████| 196/196 [01:34<00:00,  2.08it/s]\n"
          ]
        },
        {
          "name": "stdout",
          "output_type": "stream",
          "text": [
            "\n",
            "Test set: Average loss: 1.1400 ,Top-1 Accuracy: 7217/10000 (72.17%)%\n",
            "\n",
            "EPOCH: 36\n"
          ]
        },
        {
          "name": "stderr",
          "output_type": "stream",
          "text": [
            "Loss=1.0881147384643555 Batch_id=195 Accuracy=92.38: 100%|██████████| 196/196 [01:34<00:00,  2.08it/s]\n"
          ]
        },
        {
          "name": "stdout",
          "output_type": "stream",
          "text": [
            "\n",
            "Test set: Average loss: 1.0797 ,Top-1 Accuracy: 7342/10000 (73.42%)%\n",
            "\n",
            "EPOCH: 37\n"
          ]
        },
        {
          "name": "stderr",
          "output_type": "stream",
          "text": [
            "Loss=0.987473726272583 Batch_id=195 Accuracy=92.79: 100%|██████████| 196/196 [01:34<00:00,  2.08it/s]\n"
          ]
        },
        {
          "name": "stdout",
          "output_type": "stream",
          "text": [
            "\n",
            "Test set: Average loss: 1.0832 ,Top-1 Accuracy: 7377/10000 (73.77%)%\n",
            "\n",
            "EPOCH: 38\n"
          ]
        },
        {
          "name": "stderr",
          "output_type": "stream",
          "text": [
            "Loss=0.9902850985527039 Batch_id=195 Accuracy=93.05: 100%|██████████| 196/196 [01:34<00:00,  2.08it/s]\n"
          ]
        },
        {
          "name": "stdout",
          "output_type": "stream",
          "text": [
            "\n",
            "Test set: Average loss: 1.0965 ,Top-1 Accuracy: 7395/10000 (73.95%)%\n",
            "\n",
            "EPOCH: 39\n"
          ]
        },
        {
          "name": "stderr",
          "output_type": "stream",
          "text": [
            "Loss=1.0126115083694458 Batch_id=195 Accuracy=93.16: 100%|██████████| 196/196 [01:34<00:00,  2.08it/s]\n"
          ]
        },
        {
          "name": "stdout",
          "output_type": "stream",
          "text": [
            "\n",
            "Test set: Average loss: 1.1034 ,Top-1 Accuracy: 7344/10000 (73.44%)%\n",
            "\n",
            "EPOCH: 40\n"
          ]
        },
        {
          "name": "stderr",
          "output_type": "stream",
          "text": [
            "Loss=1.0198535919189453 Batch_id=195 Accuracy=93.30: 100%|██████████| 196/196 [01:34<00:00,  2.08it/s]\n"
          ]
        },
        {
          "name": "stdout",
          "output_type": "stream",
          "text": [
            "\n",
            "Test set: Average loss: 1.1082 ,Top-1 Accuracy: 7345/10000 (73.45%)%\n",
            "\n",
            "EPOCH: 41\n"
          ]
        },
        {
          "name": "stderr",
          "output_type": "stream",
          "text": [
            "Loss=0.9365944266319275 Batch_id=195 Accuracy=93.69: 100%|██████████| 196/196 [01:34<00:00,  2.08it/s]\n"
          ]
        },
        {
          "name": "stdout",
          "output_type": "stream",
          "text": [
            "\n",
            "Test set: Average loss: 1.0980 ,Top-1 Accuracy: 7395/10000 (73.95%)%\n",
            "\n",
            "EPOCH: 42\n"
          ]
        },
        {
          "name": "stderr",
          "output_type": "stream",
          "text": [
            "Loss=0.9793956279754639 Batch_id=195 Accuracy=93.93: 100%|██████████| 196/196 [01:36<00:00,  2.03it/s]\n"
          ]
        },
        {
          "name": "stdout",
          "output_type": "stream",
          "text": [
            "\n",
            "Test set: Average loss: 1.1016 ,Top-1 Accuracy: 7379/10000 (73.79%)%\n",
            "\n",
            "EPOCH: 43\n"
          ]
        },
        {
          "name": "stderr",
          "output_type": "stream",
          "text": [
            "Loss=0.9550695419311523 Batch_id=195 Accuracy=94.02: 100%|██████████| 196/196 [01:34<00:00,  2.08it/s]\n"
          ]
        },
        {
          "name": "stdout",
          "output_type": "stream",
          "text": [
            "\n",
            "Test set: Average loss: 1.1149 ,Top-1 Accuracy: 7371/10000 (73.71%)%\n",
            "\n",
            "EPOCH: 44\n"
          ]
        },
        {
          "name": "stderr",
          "output_type": "stream",
          "text": [
            "Loss=0.9819129705429077 Batch_id=195 Accuracy=93.93: 100%|██████████| 196/196 [01:34<00:00,  2.07it/s]\n"
          ]
        },
        {
          "name": "stdout",
          "output_type": "stream",
          "text": [
            "\n",
            "Test set: Average loss: 1.1141 ,Top-1 Accuracy: 7398/10000 (73.98%)%\n",
            "\n",
            "EPOCH: 45\n"
          ]
        },
        {
          "name": "stderr",
          "output_type": "stream",
          "text": [
            "Loss=1.0116387605667114 Batch_id=195 Accuracy=94.09: 100%|██████████| 196/196 [01:34<00:00,  2.08it/s]\n"
          ]
        },
        {
          "name": "stdout",
          "output_type": "stream",
          "text": [
            "\n",
            "Test set: Average loss: 1.1086 ,Top-1 Accuracy: 7412/10000 (74.12%)%\n",
            "\n",
            "EPOCH: 46\n"
          ]
        },
        {
          "name": "stderr",
          "output_type": "stream",
          "text": [
            "Loss=0.9274983406066895 Batch_id=195 Accuracy=93.91: 100%|██████████| 196/196 [01:34<00:00,  2.08it/s]\n"
          ]
        },
        {
          "name": "stdout",
          "output_type": "stream",
          "text": [
            "\n",
            "Test set: Average loss: 1.1167 ,Top-1 Accuracy: 7389/10000 (73.89%)%\n",
            "\n",
            "EPOCH: 47\n"
          ]
        },
        {
          "name": "stderr",
          "output_type": "stream",
          "text": [
            "Loss=0.9243737459182739 Batch_id=195 Accuracy=94.25: 100%|██████████| 196/196 [01:34<00:00,  2.08it/s]\n"
          ]
        },
        {
          "name": "stdout",
          "output_type": "stream",
          "text": [
            "\n",
            "Test set: Average loss: 1.1177 ,Top-1 Accuracy: 7384/10000 (73.84%)%\n",
            "\n",
            "EPOCH: 48\n"
          ]
        },
        {
          "name": "stderr",
          "output_type": "stream",
          "text": [
            "Loss=0.9691476225852966 Batch_id=195 Accuracy=94.39: 100%|██████████| 196/196 [01:34<00:00,  2.07it/s]\n"
          ]
        },
        {
          "name": "stdout",
          "output_type": "stream",
          "text": [
            "\n",
            "Test set: Average loss: 1.1245 ,Top-1 Accuracy: 7409/10000 (74.09%)%\n",
            "\n",
            "EPOCH: 49\n"
          ]
        },
        {
          "name": "stderr",
          "output_type": "stream",
          "text": [
            "Loss=0.8690693974494934 Batch_id=195 Accuracy=94.24: 100%|██████████| 196/196 [01:34<00:00,  2.08it/s]\n"
          ]
        },
        {
          "name": "stdout",
          "output_type": "stream",
          "text": [
            "\n",
            "Test set: Average loss: 1.1152 ,Top-1 Accuracy: 7406/10000 (74.06%)%\n",
            "\n",
            "EPOCH: 50\n"
          ]
        },
        {
          "name": "stderr",
          "output_type": "stream",
          "text": [
            "Loss=0.9070953726768494 Batch_id=195 Accuracy=94.41: 100%|██████████| 196/196 [01:34<00:00,  2.07it/s]\n"
          ]
        },
        {
          "name": "stdout",
          "output_type": "stream",
          "text": [
            "\n",
            "Test set: Average loss: 1.1202 ,Top-1 Accuracy: 7408/10000 (74.08%)%\n",
            "\n"
          ]
        }
      ],
      "source": [
        "torch.autograd.set_detect_anomaly(True)\n",
        "EPOCHS = 50\n",
        "for epoch in range(EPOCHS):\n",
        "    print(\"EPOCH:\", epoch+1)\n",
        "    train(model, device, train_loader, optimizer, epoch)\n",
        "    test_loss = test(model, device, test_loader)\n",
        "    scheduler.step(test_loss) # Pass test_loss to the scheduler"
      ]
    },
    {
      "cell_type": "code",
      "execution_count": null,
      "metadata": {
        "colab": {
          "base_uri": "https://localhost:8080/",
          "height": 636
        },
        "id": "B5MFqE1yaSjn",
        "outputId": "3c02b068-3efb-4b90-e4be-811d0a4fecd5"
      },
      "outputs": [
        {
          "data": {
            "text/plain": [
              "Text(0.5, 1.0, 'Test Accuracy')"
            ]
          },
          "execution_count": 16,
          "metadata": {},
          "output_type": "execute_result"
        },
        {
          "data": {
            "image/png": "[encoded data removed]",
            "text/plain": [
              "<Figure size 1500x1000 with 4 Axes>"
            ]
          },
          "metadata": {},
          "output_type": "display_data"
        }
      ],
      "source": [
        "t = [t_items.item() for t_items in train_losses]\n",
        "%matplotlib inline\n",
        "import matplotlib.pyplot as plt\n",
        "fig, axs = plt.subplots(2,2,figsize=(15,10))\n",
        "\n",
        "axs[0, 0].plot(t)\n",
        "axs[0, 0].set_title(\"Training Loss\")\n",
        "axs[1, 0].plot(train_acc)\n",
        "axs[1, 0].set_title(\"Training Accuracy\")\n",
        "axs[0, 1].plot(test_losses)\n",
        "axs[0, 1].set_title(\"Test Loss\")\n",
        "axs[1, 1].plot(test_acc)\n",
        "axs[1, 1].set_title(\"Test Accuracy\")"
      ]
    },
    {
      "cell_type": "code",
      "execution_count": null,
      "metadata": {
        "colab": {
          "base_uri": "https://localhost:8080/"
        },
        "id": "rnh-u2UN5q09",
        "outputId": "21a16949-6a0a-499a-e8c4-13fb535f3dba"
      },
      "outputs": [
        {
          "name": "stdout",
          "output_type": "stream",
          "text": [
            "Mounted at /gdrive\n",
            "Model saved to /gdrive/My Drive/CIFAR100onResnet50v3.pth\n"
          ]
        }
      ],
      "source": [
        "from google.colab import drive\n",
        "import torch\n",
        "\n",
        "drive.mount('/gdrive')\n",
        "# Save the model's state dictionary\n",
        "torch.save(model.state_dict(), '/gdrive/My Drive/CIFAR100onResnet50v3.pth')\n",
        "print(\"Model saved to /gdrive/My Drive/CIFAR100onResnet50v3.pth\")"
      ]
    },
    {
      "cell_type": "markdown",
      "metadata": {
        "id": "OBIyJ5Y05qWz"
      },
      "source": []
    }
  ],
  "metadata": {
    "accelerator": "GPU",
    "colab": {
      "gpuType": "L4",
      "provenance": []
    },
    "kernelspec": {
      "display_name": "Python 3",
      "name": "python3"
    },
    "language_info": {
      "name": "python"
    }
  },
  "nbformat": 4,
  "nbformat_minor": 0
}
